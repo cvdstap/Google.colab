{
  "nbformat": 4,
  "nbformat_minor": 0,
  "metadata": {
    "colab": {
      "provenance": [],
      "authorship_tag": "ABX9TyNCNRa5+OkvUSXxtccceZ3+",
      "include_colab_link": true
    },
    "kernelspec": {
      "name": "python3",
      "display_name": "Python 3"
    },
    "language_info": {
      "name": "python"
    }
  },
  "cells": [
    {
      "cell_type": "markdown",
      "metadata": {
        "id": "view-in-github",
        "colab_type": "text"
      },
      "source": [
        "<a href=\"https://colab.research.google.com/github/cvdstap/Google.colab/blob/main/Trial_pdf_tabel.ipynb\" target=\"_parent\"><img src=\"https://colab.research.google.com/assets/colab-badge.svg\" alt=\"Open In Colab\"/></a>"
      ]
    },
    {
      "cell_type": "code",
      "source": [
        "from google.colab import files\n",
        "\n",
        "# https://www.thepythoncode.com/article/extract-pdf-tables-in-python-camelot\n",
        "\n",
        "# Camelot is a Python library and a command-line tool that makes it easy for anyone to extract data tables trapped inside PDF files.\n",
        "\n",
        "# Whereas Tabula-py is a simple Python wrapper of tabula-java, which can read tables in a PDF. \n",
        "\n",
        "#   It enables you to convert a PDF file into a CSV, TSV, JSON, or even a pandas DataFrame.\n",
        "#   https://github.com/x4nth055/pythoncode-tutorials/raw/master/general/pdf-table-extractor/foo.pdf\n",
        "\n",
        "#   https://github.com/cvdstap/Google.colab/raw/main/foo.pdf\n",
        "\n",
        "#   Stopped the above, continue in https://machinelearningprojects.net/extract-tables-from-pdf-files/"
      ],
      "metadata": {
        "id": "JHQEK2pacbDi"
      },
      "execution_count": 23,
      "outputs": []
    },
    {
      "cell_type": "code",
      "source": [
        "pip install \"camelot-py[cv]\""
      ],
      "metadata": {
        "colab": {
          "base_uri": "https://localhost:8080/"
        },
        "id": "AGz0NlPGINVA",
        "outputId": "01dc7542-a225-4f0a-b391-23ca542798fd"
      },
      "execution_count": 29,
      "outputs": [
        {
          "output_type": "stream",
          "name": "stdout",
          "text": [
            "Looking in indexes: https://pypi.org/simple, https://us-python.pkg.dev/colab-wheels/public/simple/\n",
            "Collecting camelot-py[cv]\n",
            "  Downloading camelot_py-0.10.1-py3-none-any.whl (40 kB)\n",
            "\u001b[2K     \u001b[90m━━━━━━━━━━━━━━━━━━━━━━━━━━━━━━━━━━━━━━━━\u001b[0m \u001b[32m41.0/41.0 KB\u001b[0m \u001b[31m2.9 MB/s\u001b[0m eta \u001b[36m0:00:00\u001b[0m\n",
            "\u001b[?25hRequirement already satisfied: openpyxl>=2.5.8 in /usr/local/lib/python3.8/dist-packages (from camelot-py[cv]) (3.0.10)\n",
            "Collecting pdfminer.six>=20200726\n",
            "  Downloading pdfminer.six-20221105-py3-none-any.whl (5.6 MB)\n",
            "\u001b[2K     \u001b[90m━━━━━━━━━━━━━━━━━━━━━━━━━━━━━━━━━━━━━━━━\u001b[0m \u001b[32m5.6/5.6 MB\u001b[0m \u001b[31m50.5 MB/s\u001b[0m eta \u001b[36m0:00:00\u001b[0m\n",
            "\u001b[?25hRequirement already satisfied: chardet>=3.0.4 in /usr/local/lib/python3.8/dist-packages (from camelot-py[cv]) (4.0.0)\n",
            "Requirement already satisfied: tabulate>=0.8.9 in /usr/local/lib/python3.8/dist-packages (from camelot-py[cv]) (0.8.10)\n",
            "Requirement already satisfied: pandas>=0.23.4 in /usr/local/lib/python3.8/dist-packages (from camelot-py[cv]) (1.3.5)\n",
            "Collecting PyPDF2>=1.26.0\n",
            "  Downloading pypdf2-3.0.1-py3-none-any.whl (232 kB)\n",
            "\u001b[2K     \u001b[90m━━━━━━━━━━━━━━━━━━━━━━━━━━━━━━━━━━━━━━\u001b[0m \u001b[32m232.6/232.6 KB\u001b[0m \u001b[31m21.4 MB/s\u001b[0m eta \u001b[36m0:00:00\u001b[0m\n",
            "\u001b[?25hRequirement already satisfied: click>=6.7 in /usr/local/lib/python3.8/dist-packages (from camelot-py[cv]) (7.1.2)\n",
            "Requirement already satisfied: numpy>=1.13.3 in /usr/local/lib/python3.8/dist-packages (from camelot-py[cv]) (1.21.6)\n",
            "Requirement already satisfied: opencv-python>=3.4.2.17 in /usr/local/lib/python3.8/dist-packages (from camelot-py[cv]) (4.6.0.66)\n",
            "Collecting ghostscript>=0.7\n",
            "  Downloading ghostscript-0.7-py2.py3-none-any.whl (25 kB)\n",
            "Collecting pdftopng>=0.2.3\n",
            "  Downloading pdftopng-0.2.3-cp38-cp38-manylinux2010_x86_64.whl (11.7 MB)\n",
            "\u001b[2K     \u001b[90m━━━━━━━━━━━━━━━━━━━━━━━━━━━━━━━━━━━━━━━━\u001b[0m \u001b[32m11.7/11.7 MB\u001b[0m \u001b[31m49.2 MB/s\u001b[0m eta \u001b[36m0:00:00\u001b[0m\n",
            "\u001b[?25hRequirement already satisfied: setuptools>=38.6.0 in /usr/local/lib/python3.8/dist-packages (from ghostscript>=0.7->camelot-py[cv]) (57.4.0)\n",
            "Requirement already satisfied: et-xmlfile in /usr/local/lib/python3.8/dist-packages (from openpyxl>=2.5.8->camelot-py[cv]) (1.1.0)\n",
            "Requirement already satisfied: python-dateutil>=2.7.3 in /usr/local/lib/python3.8/dist-packages (from pandas>=0.23.4->camelot-py[cv]) (2.8.2)\n",
            "Requirement already satisfied: pytz>=2017.3 in /usr/local/lib/python3.8/dist-packages (from pandas>=0.23.4->camelot-py[cv]) (2022.7.1)\n",
            "Requirement already satisfied: charset-normalizer>=2.0.0 in /usr/local/lib/python3.8/dist-packages (from pdfminer.six>=20200726->camelot-py[cv]) (2.1.1)\n",
            "Collecting cryptography>=36.0.0\n",
            "  Downloading cryptography-39.0.0-cp36-abi3-manylinux_2_28_x86_64.whl (4.2 MB)\n",
            "\u001b[2K     \u001b[90m━━━━━━━━━━━━━━━━━━━━━━━━━━━━━━━━━━━━━━━━\u001b[0m \u001b[32m4.2/4.2 MB\u001b[0m \u001b[31m77.5 MB/s\u001b[0m eta \u001b[36m0:00:00\u001b[0m\n",
            "\u001b[?25hRequirement already satisfied: typing_extensions>=3.10.0.0 in /usr/local/lib/python3.8/dist-packages (from PyPDF2>=1.26.0->camelot-py[cv]) (4.4.0)\n",
            "Requirement already satisfied: cffi>=1.12 in /usr/local/lib/python3.8/dist-packages (from cryptography>=36.0.0->pdfminer.six>=20200726->camelot-py[cv]) (1.15.1)\n",
            "Requirement already satisfied: six>=1.5 in /usr/local/lib/python3.8/dist-packages (from python-dateutil>=2.7.3->pandas>=0.23.4->camelot-py[cv]) (1.15.0)\n",
            "Requirement already satisfied: pycparser in /usr/local/lib/python3.8/dist-packages (from cffi>=1.12->cryptography>=36.0.0->pdfminer.six>=20200726->camelot-py[cv]) (2.21)\n",
            "Installing collected packages: PyPDF2, pdftopng, ghostscript, cryptography, pdfminer.six, camelot-py\n",
            "Successfully installed PyPDF2-3.0.1 camelot-py-0.10.1 cryptography-39.0.0 ghostscript-0.7 pdfminer.six-20221105 pdftopng-0.2.3\n"
          ]
        }
      ]
    },
    {
      "cell_type": "code",
      "source": [
        "import camelot"
      ],
      "metadata": {
        "id": "85MVdV-3IY_7"
      },
      "execution_count": 30,
      "outputs": []
    },
    {
      "cell_type": "code",
      "source": [
        "# downloaded the file from\n",
        "# uploaded in colab\n",
        "\n",
        "## NOTE DeprecationError: PdfFileReader is deprecated and was removed in PyPDF2 3.0.0. Use PdfReader instead.\n",
        "\n",
        "# tables = camelot.read_pdf('table.pdf')\n",
        "# tables = camelot.read_pdf('table.pdf', pages='1,2,3,5-7,8')\n",
        "# tables = camelot.read_pdf('table.pdf', password='*******')\n",
        "\n",
        "# https://pypi.org/project/pdfreader/\n",
        "\n",
        "# python -m pip install pdfreader\n",
        "\n",
        "# HMM this is difficult; things don't work"
      ],
      "metadata": {
        "id": "T1vcH0XKIx5N"
      },
      "execution_count": 34,
      "outputs": []
    },
    {
      "cell_type": "code",
      "source": [
        "# PDF file to extract tables from\n",
        "file = \"foo.pdf\""
      ],
      "metadata": {
        "id": "mp44MJVzJyWf"
      },
      "execution_count": 38,
      "outputs": []
    },
    {
      "cell_type": "code",
      "source": [
        "pip uninstall pypdf2"
      ],
      "metadata": {
        "colab": {
          "base_uri": "https://localhost:8080/"
        },
        "id": "ptlaMoRhL1cs",
        "outputId": "7ca799e2-19c4-4264-fc63-896f9910ccb1"
      },
      "execution_count": 40,
      "outputs": [
        {
          "output_type": "stream",
          "name": "stdout",
          "text": [
            "Found existing installation: PyPDF2 3.0.1\n",
            "Uninstalling PyPDF2-3.0.1:\n",
            "  Would remove:\n",
            "    /usr/local/lib/python3.8/dist-packages/PyPDF2/*\n",
            "    /usr/local/lib/python3.8/dist-packages/pypdf2-3.0.1.dist-info/*\n",
            "Proceed (Y/n)? Y\n",
            "  Successfully uninstalled PyPDF2-3.0.1\n"
          ]
        }
      ]
    },
    {
      "cell_type": "code",
      "source": [
        "pip install PyPDF2~=2.0"
      ],
      "metadata": {
        "colab": {
          "base_uri": "https://localhost:8080/"
        },
        "id": "sYw6S4-wMA_o",
        "outputId": "ce8158c9-157a-407f-837c-de961dc8104d"
      },
      "execution_count": 41,
      "outputs": [
        {
          "output_type": "stream",
          "name": "stdout",
          "text": [
            "Looking in indexes: https://pypi.org/simple, https://us-python.pkg.dev/colab-wheels/public/simple/\n",
            "Collecting PyPDF2~=2.0\n",
            "  Downloading pypdf2-2.12.1-py3-none-any.whl (222 kB)\n",
            "\u001b[2K     \u001b[90m━━━━━━━━━━━━━━━━━━━━━━━━━━━━━━━━━━━━━━━\u001b[0m \u001b[32m222.8/222.8 KB\u001b[0m \u001b[31m5.8 MB/s\u001b[0m eta \u001b[36m0:00:00\u001b[0m\n",
            "\u001b[?25hRequirement already satisfied: typing_extensions>=3.10.0.0 in /usr/local/lib/python3.8/dist-packages (from PyPDF2~=2.0) (4.4.0)\n",
            "Installing collected packages: PyPDF2\n",
            "Successfully installed PyPDF2-2.12.1\n"
          ]
        }
      ]
    },
    {
      "cell_type": "code",
      "source": [
        "# or pip install 'PyPDF2<3.0' see https://github.com/camelot-dev/camelot/issues/339\n",
        "import PyPDF2\n",
        "\n",
        "print(\"PyPDF2==\" + PyPDF2.__version__)"
      ],
      "metadata": {
        "colab": {
          "base_uri": "https://localhost:8080/"
        },
        "id": "U3oXyYmCMsFF",
        "outputId": "21a825ca-9f5c-467e-91ae-f060d8975d54"
      },
      "execution_count": 43,
      "outputs": [
        {
          "output_type": "stream",
          "name": "stdout",
          "text": [
            "PyPDF2==3.0.1\n"
          ]
        }
      ]
    },
    {
      "cell_type": "code",
      "source": [
        "import camelot"
      ],
      "metadata": {
        "id": "MkLpWyULNJ6d"
      },
      "execution_count": 45,
      "outputs": []
    },
    {
      "cell_type": "code",
      "source": [
        "# extract all the tables in the PDF file\n",
        "# tables = camelot.read_pdf(file) ## Still   DeprecationError: PdfFileReader is deprecated and was removed in PyPDF2 3.0.0. Use PdfReader instead."
      ],
      "metadata": {
        "colab": {
          "base_uri": "https://localhost:8080/",
          "height": 328
        },
        "id": "Z4m-yj6ELF9M",
        "outputId": "3aeb8db4-ca50-486d-9e4a-d3692969d011"
      },
      "execution_count": 46,
      "outputs": [
        {
          "output_type": "error",
          "ename": "DeprecationError",
          "evalue": "ignored",
          "traceback": [
            "\u001b[0;31m---------------------------------------------------------------------------\u001b[0m",
            "\u001b[0;31mDeprecationError\u001b[0m                          Traceback (most recent call last)",
            "\u001b[0;32m<ipython-input-46-2e1513e865d8>\u001b[0m in \u001b[0;36m<module>\u001b[0;34m\u001b[0m\n\u001b[1;32m      1\u001b[0m \u001b[0;31m# extract all the tables in the PDF file\u001b[0m\u001b[0;34m\u001b[0m\u001b[0;34m\u001b[0m\u001b[0;34m\u001b[0m\u001b[0m\n\u001b[0;32m----> 2\u001b[0;31m \u001b[0mtables\u001b[0m \u001b[0;34m=\u001b[0m \u001b[0mcamelot\u001b[0m\u001b[0;34m.\u001b[0m\u001b[0mread_pdf\u001b[0m\u001b[0;34m(\u001b[0m\u001b[0mfile\u001b[0m\u001b[0;34m)\u001b[0m\u001b[0;34m\u001b[0m\u001b[0;34m\u001b[0m\u001b[0m\n\u001b[0m",
            "\u001b[0;32m/usr/local/lib/python3.8/dist-packages/camelot/io.py\u001b[0m in \u001b[0;36mread_pdf\u001b[0;34m(filepath, pages, password, flavor, suppress_stdout, layout_kwargs, **kwargs)\u001b[0m\n\u001b[1;32m    111\u001b[0m         \u001b[0mp\u001b[0m \u001b[0;34m=\u001b[0m \u001b[0mPDFHandler\u001b[0m\u001b[0;34m(\u001b[0m\u001b[0mfilepath\u001b[0m\u001b[0;34m,\u001b[0m \u001b[0mpages\u001b[0m\u001b[0;34m=\u001b[0m\u001b[0mpages\u001b[0m\u001b[0;34m,\u001b[0m \u001b[0mpassword\u001b[0m\u001b[0;34m=\u001b[0m\u001b[0mpassword\u001b[0m\u001b[0;34m)\u001b[0m\u001b[0;34m\u001b[0m\u001b[0;34m\u001b[0m\u001b[0m\n\u001b[1;32m    112\u001b[0m         \u001b[0mkwargs\u001b[0m \u001b[0;34m=\u001b[0m \u001b[0mremove_extra\u001b[0m\u001b[0;34m(\u001b[0m\u001b[0mkwargs\u001b[0m\u001b[0;34m,\u001b[0m \u001b[0mflavor\u001b[0m\u001b[0;34m=\u001b[0m\u001b[0mflavor\u001b[0m\u001b[0;34m)\u001b[0m\u001b[0;34m\u001b[0m\u001b[0;34m\u001b[0m\u001b[0m\n\u001b[0;32m--> 113\u001b[0;31m         tables = p.parse(\n\u001b[0m\u001b[1;32m    114\u001b[0m             \u001b[0mflavor\u001b[0m\u001b[0;34m=\u001b[0m\u001b[0mflavor\u001b[0m\u001b[0;34m,\u001b[0m\u001b[0;34m\u001b[0m\u001b[0;34m\u001b[0m\u001b[0m\n\u001b[1;32m    115\u001b[0m             \u001b[0msuppress_stdout\u001b[0m\u001b[0;34m=\u001b[0m\u001b[0msuppress_stdout\u001b[0m\u001b[0;34m,\u001b[0m\u001b[0;34m\u001b[0m\u001b[0;34m\u001b[0m\u001b[0m\n",
            "\u001b[0;32m/usr/local/lib/python3.8/dist-packages/camelot/handlers.py\u001b[0m in \u001b[0;36mparse\u001b[0;34m(self, flavor, suppress_stdout, layout_kwargs, **kwargs)\u001b[0m\n\u001b[1;32m    170\u001b[0m         \u001b[0;32mwith\u001b[0m \u001b[0mTemporaryDirectory\u001b[0m\u001b[0;34m(\u001b[0m\u001b[0;34m)\u001b[0m \u001b[0;32mas\u001b[0m \u001b[0mtempdir\u001b[0m\u001b[0;34m:\u001b[0m\u001b[0;34m\u001b[0m\u001b[0;34m\u001b[0m\u001b[0m\n\u001b[1;32m    171\u001b[0m             \u001b[0;32mfor\u001b[0m \u001b[0mp\u001b[0m \u001b[0;32min\u001b[0m \u001b[0mself\u001b[0m\u001b[0;34m.\u001b[0m\u001b[0mpages\u001b[0m\u001b[0;34m:\u001b[0m\u001b[0;34m\u001b[0m\u001b[0;34m\u001b[0m\u001b[0m\n\u001b[0;32m--> 172\u001b[0;31m                 \u001b[0mself\u001b[0m\u001b[0;34m.\u001b[0m\u001b[0m_save_page\u001b[0m\u001b[0;34m(\u001b[0m\u001b[0mself\u001b[0m\u001b[0;34m.\u001b[0m\u001b[0mfilepath\u001b[0m\u001b[0;34m,\u001b[0m \u001b[0mp\u001b[0m\u001b[0;34m,\u001b[0m \u001b[0mtempdir\u001b[0m\u001b[0;34m)\u001b[0m\u001b[0;34m\u001b[0m\u001b[0;34m\u001b[0m\u001b[0m\n\u001b[0m\u001b[1;32m    173\u001b[0m             \u001b[0mpages\u001b[0m \u001b[0;34m=\u001b[0m \u001b[0;34m[\u001b[0m\u001b[0mos\u001b[0m\u001b[0;34m.\u001b[0m\u001b[0mpath\u001b[0m\u001b[0;34m.\u001b[0m\u001b[0mjoin\u001b[0m\u001b[0;34m(\u001b[0m\u001b[0mtempdir\u001b[0m\u001b[0;34m,\u001b[0m \u001b[0;34mf\"page-{p}.pdf\"\u001b[0m\u001b[0;34m)\u001b[0m \u001b[0;32mfor\u001b[0m \u001b[0mp\u001b[0m \u001b[0;32min\u001b[0m \u001b[0mself\u001b[0m\u001b[0;34m.\u001b[0m\u001b[0mpages\u001b[0m\u001b[0;34m]\u001b[0m\u001b[0;34m\u001b[0m\u001b[0;34m\u001b[0m\u001b[0m\n\u001b[1;32m    174\u001b[0m             \u001b[0mparser\u001b[0m \u001b[0;34m=\u001b[0m \u001b[0mLattice\u001b[0m\u001b[0;34m(\u001b[0m\u001b[0;34m**\u001b[0m\u001b[0mkwargs\u001b[0m\u001b[0;34m)\u001b[0m \u001b[0;32mif\u001b[0m \u001b[0mflavor\u001b[0m \u001b[0;34m==\u001b[0m \u001b[0;34m\"lattice\"\u001b[0m \u001b[0;32melse\u001b[0m \u001b[0mStream\u001b[0m\u001b[0;34m(\u001b[0m\u001b[0;34m**\u001b[0m\u001b[0mkwargs\u001b[0m\u001b[0;34m)\u001b[0m\u001b[0;34m\u001b[0m\u001b[0;34m\u001b[0m\u001b[0m\n",
            "\u001b[0;32m/usr/local/lib/python3.8/dist-packages/camelot/handlers.py\u001b[0m in \u001b[0;36m_save_page\u001b[0;34m(self, filepath, page, temp)\u001b[0m\n\u001b[1;32m    109\u001b[0m         \"\"\"\n\u001b[1;32m    110\u001b[0m         \u001b[0;32mwith\u001b[0m \u001b[0mopen\u001b[0m\u001b[0;34m(\u001b[0m\u001b[0mfilepath\u001b[0m\u001b[0;34m,\u001b[0m \u001b[0;34m\"rb\"\u001b[0m\u001b[0;34m)\u001b[0m \u001b[0;32mas\u001b[0m \u001b[0mfileobj\u001b[0m\u001b[0;34m:\u001b[0m\u001b[0;34m\u001b[0m\u001b[0;34m\u001b[0m\u001b[0m\n\u001b[0;32m--> 111\u001b[0;31m             \u001b[0minfile\u001b[0m \u001b[0;34m=\u001b[0m \u001b[0mPdfFileReader\u001b[0m\u001b[0;34m(\u001b[0m\u001b[0mfileobj\u001b[0m\u001b[0;34m,\u001b[0m \u001b[0mstrict\u001b[0m\u001b[0;34m=\u001b[0m\u001b[0;32mFalse\u001b[0m\u001b[0;34m)\u001b[0m\u001b[0;34m\u001b[0m\u001b[0;34m\u001b[0m\u001b[0m\n\u001b[0m\u001b[1;32m    112\u001b[0m             \u001b[0;32mif\u001b[0m \u001b[0minfile\u001b[0m\u001b[0;34m.\u001b[0m\u001b[0misEncrypted\u001b[0m\u001b[0;34m:\u001b[0m\u001b[0;34m\u001b[0m\u001b[0;34m\u001b[0m\u001b[0m\n\u001b[1;32m    113\u001b[0m                 \u001b[0minfile\u001b[0m\u001b[0;34m.\u001b[0m\u001b[0mdecrypt\u001b[0m\u001b[0;34m(\u001b[0m\u001b[0mself\u001b[0m\u001b[0;34m.\u001b[0m\u001b[0mpassword\u001b[0m\u001b[0;34m)\u001b[0m\u001b[0;34m\u001b[0m\u001b[0;34m\u001b[0m\u001b[0m\n",
            "\u001b[0;32m/usr/local/lib/python3.8/dist-packages/PyPDF2/_reader.py\u001b[0m in \u001b[0;36m__init__\u001b[0;34m(self, *args, **kwargs)\u001b[0m\n",
            "\u001b[0;32m/usr/local/lib/python3.8/dist-packages/PyPDF2/_utils.py\u001b[0m in \u001b[0;36mdeprecation_with_replacement\u001b[0;34m(old_name, new_name, removed_in)\u001b[0m\n\u001b[1;32m    367\u001b[0m       \u001b[0man\u001b[0m \u001b[0merror\u001b[0m \u001b[0mcase\u001b[0m\u001b[0;34m,\u001b[0m \u001b[0me\u001b[0m\u001b[0;34m.\u001b[0m\u001b[0mg\u001b[0m\u001b[0;34m.\u001b[0m \u001b[0mthe\u001b[0m \u001b[0mPDF\u001b[0m \u001b[0mbeing\u001b[0m \u001b[0mcompletely\u001b[0m \u001b[0mbroken\u001b[0m\u001b[0;34m.\u001b[0m\u001b[0;34m\u001b[0m\u001b[0;34m\u001b[0m\u001b[0m\n\u001b[1;32m    368\u001b[0m     \u001b[0;34m-\u001b[0m \u001b[0mwarnings\u001b[0m\u001b[0;34m.\u001b[0m\u001b[0mwarn\u001b[0m \u001b[0mshould\u001b[0m \u001b[0mbe\u001b[0m \u001b[0mused\u001b[0m \u001b[0;32mif\u001b[0m \u001b[0mthe\u001b[0m \u001b[0muser\u001b[0m \u001b[0mneeds\u001b[0m \u001b[0mto\u001b[0m \u001b[0mfix\u001b[0m \u001b[0mtheir\u001b[0m \u001b[0mcode\u001b[0m\u001b[0;34m,\u001b[0m \u001b[0me\u001b[0m\u001b[0;34m.\u001b[0m\u001b[0mg\u001b[0m\u001b[0;34m.\u001b[0m\u001b[0;34m\u001b[0m\u001b[0;34m\u001b[0m\u001b[0m\n\u001b[0;32m--> 369\u001b[0;31m       \u001b[0mDeprecationWarnings\u001b[0m\u001b[0;34m\u001b[0m\u001b[0;34m\u001b[0m\u001b[0m\n\u001b[0m\u001b[1;32m    370\u001b[0m     \u001b[0;34m-\u001b[0m \u001b[0mlogger_warning\u001b[0m \u001b[0mshould\u001b[0m \u001b[0mbe\u001b[0m \u001b[0mused\u001b[0m \u001b[0;32mif\u001b[0m \u001b[0mthe\u001b[0m \u001b[0muser\u001b[0m \u001b[0mneeds\u001b[0m \u001b[0mto\u001b[0m \u001b[0mknow\u001b[0m \u001b[0mthat\u001b[0m \u001b[0man\u001b[0m \u001b[0missue\u001b[0m \u001b[0mwas\u001b[0m\u001b[0;34m\u001b[0m\u001b[0;34m\u001b[0m\u001b[0m\n\u001b[1;32m    371\u001b[0m       \u001b[0mhandled\u001b[0m \u001b[0mby\u001b[0m \u001b[0mPyPDF2\u001b[0m\u001b[0;34m,\u001b[0m \u001b[0me\u001b[0m\u001b[0;34m.\u001b[0m\u001b[0mg\u001b[0m\u001b[0;34m.\u001b[0m \u001b[0ma\u001b[0m \u001b[0mnon\u001b[0m\u001b[0;34m-\u001b[0m\u001b[0mcompliant\u001b[0m \u001b[0mPDF\u001b[0m \u001b[0mbeing\u001b[0m \u001b[0mread\u001b[0m \u001b[0;32min\u001b[0m \u001b[0ma\u001b[0m \u001b[0mway\u001b[0m \u001b[0mthat\u001b[0m\u001b[0;34m\u001b[0m\u001b[0;34m\u001b[0m\u001b[0m\n",
            "\u001b[0;32m/usr/local/lib/python3.8/dist-packages/PyPDF2/_utils.py\u001b[0m in \u001b[0;36mdeprecation\u001b[0;34m(msg)\u001b[0m\n\u001b[1;32m    349\u001b[0m def deprecate_with_replacement(\n\u001b[1;32m    350\u001b[0m     \u001b[0mold_name\u001b[0m\u001b[0;34m:\u001b[0m \u001b[0mstr\u001b[0m\u001b[0;34m,\u001b[0m \u001b[0mnew_name\u001b[0m\u001b[0;34m:\u001b[0m \u001b[0mstr\u001b[0m\u001b[0;34m,\u001b[0m \u001b[0mremoved_in\u001b[0m\u001b[0;34m:\u001b[0m \u001b[0mstr\u001b[0m \u001b[0;34m=\u001b[0m \u001b[0;34m\"3.0.0\"\u001b[0m\u001b[0;34m\u001b[0m\u001b[0;34m\u001b[0m\u001b[0m\n\u001b[0;32m--> 351\u001b[0;31m ) -> None:\n\u001b[0m\u001b[1;32m    352\u001b[0m     \u001b[0mdeprecate\u001b[0m\u001b[0;34m(\u001b[0m\u001b[0mDEPR_MSG\u001b[0m\u001b[0;34m.\u001b[0m\u001b[0mformat\u001b[0m\u001b[0;34m(\u001b[0m\u001b[0mold_name\u001b[0m\u001b[0;34m,\u001b[0m \u001b[0mnew_name\u001b[0m\u001b[0;34m,\u001b[0m \u001b[0mremoved_in\u001b[0m\u001b[0;34m)\u001b[0m\u001b[0;34m,\u001b[0m \u001b[0;36m4\u001b[0m\u001b[0;34m)\u001b[0m\u001b[0;34m\u001b[0m\u001b[0;34m\u001b[0m\u001b[0m\n\u001b[1;32m    353\u001b[0m \u001b[0;34m\u001b[0m\u001b[0m\n",
            "\u001b[0;31mDeprecationError\u001b[0m: PdfFileReader is deprecated and was removed in PyPDF2 3.0.0. Use PdfReader instead."
          ]
        }
      ]
    },
    {
      "cell_type": "code",
      "source": [
        "uploaded = files.upload()\n",
        "## Note the file must be small otherwise : \n",
        "## MessageError: RangeError: Maximum call stack size exceeded.\n",
        "\n",
        "## the file can be uploaded directly or via the above code\n",
        "## used in this example >> C:\\Users\\cvdst\\Documents\\3.Financieel\\BBDDB\\Voorbeeld Portefeuille\\BBbbB-feb2023.\n",
        "\n",
        "## Files also in https://github.com/cvdstap/Google.colab (only < 25MB)"
      ],
      "metadata": {
        "colab": {
          "base_uri": "https://localhost:8080/",
          "height": 73
        },
        "id": "gz3odfaNcbaM",
        "outputId": "dcf6246f-433a-46d0-fed5-023d42fd4e43"
      },
      "execution_count": 22,
      "outputs": [
        {
          "output_type": "display_data",
          "data": {
            "text/plain": [
              "<IPython.core.display.HTML object>"
            ],
            "text/html": [
              "\n",
              "     <input type=\"file\" id=\"files-5eb8e3d7-2ed4-458a-a529-6908ff688cb7\" name=\"files[]\" multiple disabled\n",
              "        style=\"border:none\" />\n",
              "     <output id=\"result-5eb8e3d7-2ed4-458a-a529-6908ff688cb7\">\n",
              "      Upload widget is only available when the cell has been executed in the\n",
              "      current browser session. Please rerun this cell to enable.\n",
              "      </output>\n",
              "      <script>// Copyright 2017 Google LLC\n",
              "//\n",
              "// Licensed under the Apache License, Version 2.0 (the \"License\");\n",
              "// you may not use this file except in compliance with the License.\n",
              "// You may obtain a copy of the License at\n",
              "//\n",
              "//      http://www.apache.org/licenses/LICENSE-2.0\n",
              "//\n",
              "// Unless required by applicable law or agreed to in writing, software\n",
              "// distributed under the License is distributed on an \"AS IS\" BASIS,\n",
              "// WITHOUT WARRANTIES OR CONDITIONS OF ANY KIND, either express or implied.\n",
              "// See the License for the specific language governing permissions and\n",
              "// limitations under the License.\n",
              "\n",
              "/**\n",
              " * @fileoverview Helpers for google.colab Python module.\n",
              " */\n",
              "(function(scope) {\n",
              "function span(text, styleAttributes = {}) {\n",
              "  const element = document.createElement('span');\n",
              "  element.textContent = text;\n",
              "  for (const key of Object.keys(styleAttributes)) {\n",
              "    element.style[key] = styleAttributes[key];\n",
              "  }\n",
              "  return element;\n",
              "}\n",
              "\n",
              "// Max number of bytes which will be uploaded at a time.\n",
              "const MAX_PAYLOAD_SIZE = 100 * 1024;\n",
              "\n",
              "function _uploadFiles(inputId, outputId) {\n",
              "  const steps = uploadFilesStep(inputId, outputId);\n",
              "  const outputElement = document.getElementById(outputId);\n",
              "  // Cache steps on the outputElement to make it available for the next call\n",
              "  // to uploadFilesContinue from Python.\n",
              "  outputElement.steps = steps;\n",
              "\n",
              "  return _uploadFilesContinue(outputId);\n",
              "}\n",
              "\n",
              "// This is roughly an async generator (not supported in the browser yet),\n",
              "// where there are multiple asynchronous steps and the Python side is going\n",
              "// to poll for completion of each step.\n",
              "// This uses a Promise to block the python side on completion of each step,\n",
              "// then passes the result of the previous step as the input to the next step.\n",
              "function _uploadFilesContinue(outputId) {\n",
              "  const outputElement = document.getElementById(outputId);\n",
              "  const steps = outputElement.steps;\n",
              "\n",
              "  const next = steps.next(outputElement.lastPromiseValue);\n",
              "  return Promise.resolve(next.value.promise).then((value) => {\n",
              "    // Cache the last promise value to make it available to the next\n",
              "    // step of the generator.\n",
              "    outputElement.lastPromiseValue = value;\n",
              "    return next.value.response;\n",
              "  });\n",
              "}\n",
              "\n",
              "/**\n",
              " * Generator function which is called between each async step of the upload\n",
              " * process.\n",
              " * @param {string} inputId Element ID of the input file picker element.\n",
              " * @param {string} outputId Element ID of the output display.\n",
              " * @return {!Iterable<!Object>} Iterable of next steps.\n",
              " */\n",
              "function* uploadFilesStep(inputId, outputId) {\n",
              "  const inputElement = document.getElementById(inputId);\n",
              "  inputElement.disabled = false;\n",
              "\n",
              "  const outputElement = document.getElementById(outputId);\n",
              "  outputElement.innerHTML = '';\n",
              "\n",
              "  const pickedPromise = new Promise((resolve) => {\n",
              "    inputElement.addEventListener('change', (e) => {\n",
              "      resolve(e.target.files);\n",
              "    });\n",
              "  });\n",
              "\n",
              "  const cancel = document.createElement('button');\n",
              "  inputElement.parentElement.appendChild(cancel);\n",
              "  cancel.textContent = 'Cancel upload';\n",
              "  const cancelPromise = new Promise((resolve) => {\n",
              "    cancel.onclick = () => {\n",
              "      resolve(null);\n",
              "    };\n",
              "  });\n",
              "\n",
              "  // Wait for the user to pick the files.\n",
              "  const files = yield {\n",
              "    promise: Promise.race([pickedPromise, cancelPromise]),\n",
              "    response: {\n",
              "      action: 'starting',\n",
              "    }\n",
              "  };\n",
              "\n",
              "  cancel.remove();\n",
              "\n",
              "  // Disable the input element since further picks are not allowed.\n",
              "  inputElement.disabled = true;\n",
              "\n",
              "  if (!files) {\n",
              "    return {\n",
              "      response: {\n",
              "        action: 'complete',\n",
              "      }\n",
              "    };\n",
              "  }\n",
              "\n",
              "  for (const file of files) {\n",
              "    const li = document.createElement('li');\n",
              "    li.append(span(file.name, {fontWeight: 'bold'}));\n",
              "    li.append(span(\n",
              "        `(${file.type || 'n/a'}) - ${file.size} bytes, ` +\n",
              "        `last modified: ${\n",
              "            file.lastModifiedDate ? file.lastModifiedDate.toLocaleDateString() :\n",
              "                                    'n/a'} - `));\n",
              "    const percent = span('0% done');\n",
              "    li.appendChild(percent);\n",
              "\n",
              "    outputElement.appendChild(li);\n",
              "\n",
              "    const fileDataPromise = new Promise((resolve) => {\n",
              "      const reader = new FileReader();\n",
              "      reader.onload = (e) => {\n",
              "        resolve(e.target.result);\n",
              "      };\n",
              "      reader.readAsArrayBuffer(file);\n",
              "    });\n",
              "    // Wait for the data to be ready.\n",
              "    let fileData = yield {\n",
              "      promise: fileDataPromise,\n",
              "      response: {\n",
              "        action: 'continue',\n",
              "      }\n",
              "    };\n",
              "\n",
              "    // Use a chunked sending to avoid message size limits. See b/62115660.\n",
              "    let position = 0;\n",
              "    do {\n",
              "      const length = Math.min(fileData.byteLength - position, MAX_PAYLOAD_SIZE);\n",
              "      const chunk = new Uint8Array(fileData, position, length);\n",
              "      position += length;\n",
              "\n",
              "      const base64 = btoa(String.fromCharCode.apply(null, chunk));\n",
              "      yield {\n",
              "        response: {\n",
              "          action: 'append',\n",
              "          file: file.name,\n",
              "          data: base64,\n",
              "        },\n",
              "      };\n",
              "\n",
              "      let percentDone = fileData.byteLength === 0 ?\n",
              "          100 :\n",
              "          Math.round((position / fileData.byteLength) * 100);\n",
              "      percent.textContent = `${percentDone}% done`;\n",
              "\n",
              "    } while (position < fileData.byteLength);\n",
              "  }\n",
              "\n",
              "  // All done.\n",
              "  yield {\n",
              "    response: {\n",
              "      action: 'complete',\n",
              "    }\n",
              "  };\n",
              "}\n",
              "\n",
              "scope.google = scope.google || {};\n",
              "scope.google.colab = scope.google.colab || {};\n",
              "scope.google.colab._files = {\n",
              "  _uploadFiles,\n",
              "  _uploadFilesContinue,\n",
              "};\n",
              "})(self);\n",
              "</script> "
            ]
          },
          "metadata": {}
        },
        {
          "output_type": "stream",
          "name": "stdout",
          "text": [
            "Saving BBbbB-feb2023.csv to BBbbB-feb2023 (1).csv\n"
          ]
        }
      ]
    },
    {
      "cell_type": "markdown",
      "source": [
        "Short lesson : https://towardsdatascience.com/3-ways-to-load-csv-files-into-colab-7c14fcbdcb92\n",
        "\n"
      ],
      "metadata": {
        "id": "9UPn12QV_v7T"
      }
    },
    {
      "cell_type": "markdown",
      "source": [],
      "metadata": {
        "id": "QFrWPQkya5YV"
      }
    },
    {
      "cell_type": "code",
      "source": [
        "import pandas as pd\n",
        "\n",
        "# From Github \n"
      ],
      "metadata": {
        "id": "YA3U_JC9y-W0"
      },
      "execution_count": 48,
      "outputs": []
    },
    {
      "cell_type": "markdown",
      "source": [
        "Need to restart the runtime want to complete the following\n",
        "\n",
        "https://aroussi.com/post/python-yahoo-finance"
      ],
      "metadata": {
        "id": "VPBzi7oDSkyC"
      }
    },
    {
      "cell_type": "code",
      "source": [
        "pip install yfinance --upgrade --no-cache-dir\n"
      ],
      "metadata": {
        "colab": {
          "base_uri": "https://localhost:8080/",
          "height": 936
        },
        "id": "d8EXemghOa7w",
        "outputId": "eef3834a-ee3a-44ca-dc86-360d3af70862"
      },
      "execution_count": 53,
      "outputs": [
        {
          "output_type": "stream",
          "name": "stdout",
          "text": [
            "Looking in indexes: https://pypi.org/simple, https://us-python.pkg.dev/colab-wheels/public/simple/\n",
            "Collecting yfinance\n",
            "  Downloading yfinance-0.2.9-py2.py3-none-any.whl (55 kB)\n",
            "\u001b[2K     \u001b[90m━━━━━━━━━━━━━━━━━━━━━━━━━━━━━━━━━━━━━━━━\u001b[0m \u001b[32m55.9/55.9 KB\u001b[0m \u001b[31m4.0 MB/s\u001b[0m eta \u001b[36m0:00:00\u001b[0m\n",
            "\u001b[?25hCollecting html5lib>=1.1\n",
            "  Downloading html5lib-1.1-py2.py3-none-any.whl (112 kB)\n",
            "\u001b[2K     \u001b[90m━━━━━━━━━━━━━━━━━━━━━━━━━━━━━━━━━━━━━━\u001b[0m \u001b[32m112.2/112.2 KB\u001b[0m \u001b[31m12.8 MB/s\u001b[0m eta \u001b[36m0:00:00\u001b[0m\n",
            "\u001b[?25hRequirement already satisfied: appdirs>=1.4.4 in /usr/local/lib/python3.8/dist-packages (from yfinance) (1.4.4)\n",
            "Requirement already satisfied: cryptography>=3.3.2 in /usr/local/lib/python3.8/dist-packages (from yfinance) (39.0.0)\n",
            "Requirement already satisfied: multitasking>=0.0.7 in /usr/local/lib/python3.8/dist-packages (from yfinance) (0.0.11)\n",
            "Requirement already satisfied: numpy>=1.16.5 in /usr/local/lib/python3.8/dist-packages (from yfinance) (1.21.6)\n",
            "Requirement already satisfied: lxml>=4.9.1 in /usr/local/lib/python3.8/dist-packages (from yfinance) (4.9.2)\n",
            "Collecting beautifulsoup4>=4.11.1\n",
            "  Downloading beautifulsoup4-4.11.2-py3-none-any.whl (129 kB)\n",
            "\u001b[2K     \u001b[90m━━━━━━━━━━━━━━━━━━━━━━━━━━━━━━━━━━━━━\u001b[0m \u001b[32m129.4/129.4 KB\u001b[0m \u001b[31m218.4 MB/s\u001b[0m eta \u001b[36m0:00:00\u001b[0m\n",
            "\u001b[?25hRequirement already satisfied: pandas>=1.3.0 in /usr/local/lib/python3.8/dist-packages (from yfinance) (1.3.5)\n",
            "Collecting frozendict>=2.3.4\n",
            "  Downloading frozendict-2.3.4-cp38-cp38-manylinux_2_17_x86_64.manylinux2014_x86_64.whl (110 kB)\n",
            "\u001b[2K     \u001b[90m━━━━━━━━━━━━━━━━━━━━━━━━━━━━━━━━━━━━━\u001b[0m \u001b[32m111.0/111.0 KB\u001b[0m \u001b[31m210.1 MB/s\u001b[0m eta \u001b[36m0:00:00\u001b[0m\n",
            "\u001b[?25hCollecting requests>=2.26\n",
            "  Downloading requests-2.28.2-py3-none-any.whl (62 kB)\n",
            "\u001b[2K     \u001b[90m━━━━━━━━━━━━━━━━━━━━━━━━━━━━━━━━━━━━━━━\u001b[0m \u001b[32m62.8/62.8 KB\u001b[0m \u001b[31m193.3 MB/s\u001b[0m eta \u001b[36m0:00:00\u001b[0m\n",
            "\u001b[?25hRequirement already satisfied: pytz>=2022.5 in /usr/local/lib/python3.8/dist-packages (from yfinance) (2022.7.1)\n",
            "Collecting soupsieve>1.2\n",
            "  Downloading soupsieve-2.3.2.post1-py3-none-any.whl (37 kB)\n",
            "Requirement already satisfied: cffi>=1.12 in /usr/local/lib/python3.8/dist-packages (from cryptography>=3.3.2->yfinance) (1.15.1)\n",
            "Requirement already satisfied: webencodings in /usr/local/lib/python3.8/dist-packages (from html5lib>=1.1->yfinance) (0.5.1)\n",
            "Requirement already satisfied: six>=1.9 in /usr/local/lib/python3.8/dist-packages (from html5lib>=1.1->yfinance) (1.15.0)\n",
            "Requirement already satisfied: python-dateutil>=2.7.3 in /usr/local/lib/python3.8/dist-packages (from pandas>=1.3.0->yfinance) (2.8.2)\n",
            "Requirement already satisfied: charset-normalizer<4,>=2 in /usr/local/lib/python3.8/dist-packages (from requests>=2.26->yfinance) (2.1.1)\n",
            "Requirement already satisfied: urllib3<1.27,>=1.21.1 in /usr/local/lib/python3.8/dist-packages (from requests>=2.26->yfinance) (1.24.3)\n",
            "Requirement already satisfied: idna<4,>=2.5 in /usr/local/lib/python3.8/dist-packages (from requests>=2.26->yfinance) (2.10)\n",
            "Requirement already satisfied: certifi>=2017.4.17 in /usr/local/lib/python3.8/dist-packages (from requests>=2.26->yfinance) (2022.12.7)\n",
            "Requirement already satisfied: pycparser in /usr/local/lib/python3.8/dist-packages (from cffi>=1.12->cryptography>=3.3.2->yfinance) (2.21)\n",
            "Installing collected packages: soupsieve, requests, html5lib, frozendict, beautifulsoup4, yfinance\n",
            "  Attempting uninstall: requests\n",
            "    Found existing installation: requests 2.25.1\n",
            "    Uninstalling requests-2.25.1:\n",
            "      Successfully uninstalled requests-2.25.1\n",
            "  Attempting uninstall: html5lib\n",
            "    Found existing installation: html5lib 1.0.1\n",
            "    Uninstalling html5lib-1.0.1:\n",
            "      Successfully uninstalled html5lib-1.0.1\n",
            "  Attempting uninstall: beautifulsoup4\n",
            "    Found existing installation: beautifulsoup4 4.6.3\n",
            "    Uninstalling beautifulsoup4-4.6.3:\n",
            "      Successfully uninstalled beautifulsoup4-4.6.3\n",
            "Successfully installed beautifulsoup4-4.11.2 frozendict-2.3.4 html5lib-1.1 requests-2.28.2 soupsieve-2.3.2.post1 yfinance-0.2.9\n"
          ]
        },
        {
          "output_type": "display_data",
          "data": {
            "application/vnd.colab-display-data+json": {
              "pip_warning": {
                "packages": [
                  "requests"
                ]
              }
            }
          },
          "metadata": {}
        }
      ]
    },
    {
      "cell_type": "code",
      "source": [
        "import yfinance as yf"
      ],
      "metadata": {
        "id": "DuvAqvqWSWcS"
      },
      "execution_count": 1,
      "outputs": []
    },
    {
      "cell_type": "code",
      "source": [
        "msft = yf.Ticker(\"MSFT\")\n",
        "print(msft)\n",
        "\"\"\"\n",
        "returns\n",
        "<yfinance.Ticker object at 0x1a1715e898>\n",
        "\"\"\""
      ],
      "metadata": {
        "colab": {
          "base_uri": "https://localhost:8080/",
          "height": 53
        },
        "id": "WwQCtZjqSwtm",
        "outputId": "3de44f9a-c5ee-4b24-8c3c-ea5441296f8b"
      },
      "execution_count": 2,
      "outputs": [
        {
          "output_type": "stream",
          "name": "stdout",
          "text": [
            "yfinance.Ticker object <MSFT>\n"
          ]
        },
        {
          "output_type": "execute_result",
          "data": {
            "text/plain": [
              "'\\nreturns\\n<yfinance.Ticker object at 0x1a1715e898>\\n'"
            ],
            "application/vnd.google.colaboratory.intrinsic+json": {
              "type": "string"
            }
          },
          "metadata": {},
          "execution_count": 2
        }
      ]
    },
    {
      "cell_type": "code",
      "source": [
        "# get stock info\n",
        "msft.info"
      ],
      "metadata": {
        "colab": {
          "base_uri": "https://localhost:8080/"
        },
        "id": "rZwVhJqRSyhs",
        "outputId": "41ef23c1-df63-49ba-f076-41fd1849cacc"
      },
      "execution_count": 3,
      "outputs": [
        {
          "output_type": "execute_result",
          "data": {
            "text/plain": [
              "{'zip': '98052-6399', 'sector': 'Technology', 'fullTimeEmployees': 221000, 'longBusinessSummary': 'Microsoft Corporation develops, licenses, and supports software, services, devices, and solutions worldwide. The company operates in three segments: Productivity and Business Processes, Intelligent Cloud, and More Personal Computing. The Productivity and Business Processes segment offers Office, Exchange, SharePoint, Microsoft Teams, Office 365 Security and Compliance, Microsoft Viva, and Skype for Business; Skype, Outlook.com, OneDrive, and LinkedIn; and Dynamics 365, a set of cloud-based and on-premises business solutions for organizations and enterprise divisions. The Intelligent Cloud segment licenses SQL, Windows Servers, Visual Studio, System Center, and related Client Access Licenses; GitHub that provides a collaboration platform and code hosting service for developers; Nuance provides healthcare and enterprise AI solutions; and Azure, a cloud platform. It also offers enterprise support, Microsoft consulting, and nuance professional services to assist customers in developing, deploying, and managing Microsoft server and desktop solutions; and training and certification on Microsoft products. The More Personal Computing segment provides Windows original equipment manufacturer (OEM) licensing and other non-volume licensing of the Windows operating system; Windows Commercial, such as volume licensing of the Windows operating system, Windows cloud services, and other Windows commercial offerings; patent licensing; and Windows Internet of Things. It also offers Surface, PC accessories, PCs, tablets, gaming and entertainment consoles, and other devices; Gaming, including Xbox hardware, and Xbox content and services; video games and third-party video game royalties; and Search, including Bing and Microsoft advertising. The company sells its products through OEMs, distributors, and resellers; and directly through digital marketplaces, online stores, and retail stores. Microsoft Corporation was founded in 1975 and is headquartered in Redmond, Washington.', 'city': 'Redmond', 'phone': '425 882 8080', 'state': 'WA', 'country': 'United States', 'companyOfficers': [], 'website': 'https://www.microsoft.com', 'maxAge': 1, 'address1': 'One Microsoft Way', 'fax': '425 706 7329', 'industry': 'Software—Infrastructure', 'ebitdaMargins': 0.4799, 'profitMargins': 0.33048, 'grossMargins': 0.68160003, 'operatingCashflow': 84385996800, 'revenueGrowth': 0.02, 'operatingMargins': 0.40969002, 'ebitda': 97945001984, 'targetLowPrice': 212, 'recommendationKey': 'buy', 'grossProfits': 135620000000, 'freeCashflow': 44613373952, 'targetMedianPrice': 280, 'earningsGrowth': -0.113, 'currentRatio': 1.931, 'returnOnAssets': 0.14826, 'numberOfAnalystOpinions': 46, 'targetMeanPrice': 284.08, 'debtToEquity': 42.583, 'returnOnEquity': 0.39312, 'targetHighPrice': 411, 'totalCash': 99495002112, 'totalDebt': 77984997376, 'totalRevenue': 204093997056, 'totalCashPerShare': 13.366, 'financialCurrency': 'USD', 'revenuePerShare': 27.327, 'quickRatio': 1.656, 'recommendationMean': 1.8, 'shortName': 'Microsoft Corporation', 'longName': 'Microsoft Corporation', 'isEsgPopulated': False, 'gmtOffSetMilliseconds': '-18000000', 'quoteType': 'EQUITY', 'messageBoardId': 'finmb_21835', 'market': 'us_market', 'annualHoldingsTurnover': None, 'enterpriseToRevenue': 9.317, 'beta3Year': None, 'enterpriseToEbitda': 19.415, '52WeekChange': -0.14155173, 'morningStarRiskRating': None, 'forwardEps': 10.71, 'revenueQuarterlyGrowth': None, 'sharesOutstanding': 7443800064, 'fundInceptionDate': None, 'annualReportExpenseRatio': None, 'totalAssets': None, 'bookValue': 24.592, 'sharesShort': 36317298, 'sharesPercentSharesOut': 0.0049, 'fundFamily': None, 'lastFiscalYearEnd': 1656547200, 'heldPercentInstitutions': 0.73536, 'netIncomeToCommon': 67448999936, 'trailingEps': 9, 'lastDividendValue': 0.68, 'SandP52WeekChange': -0.07747549, 'priceToBook': 10.443234, 'heldPercentInsiders': 0.00059, 'nextFiscalYearEnd': 1688083200, 'yield': None, 'mostRecentQuarter': 1672444800, 'shortRatio': 1.15, 'sharesShortPreviousMonthDate': 1671062400, 'floatShares': 7437178548, 'beta': 0.91562, 'enterpriseValue': 1901596639232, 'priceHint': 2, 'threeYearAverageReturn': None, 'lastSplitDate': 1045526400, 'lastSplitFactor': '2:1', 'legalType': None, 'lastDividendDate': 1668556800, 'morningStarOverallRating': None, 'earningsQuarterlyGrowth': -0.125, 'priceToSalesTrailing12Months': 9.366845, 'dateShortInterest': 1673568000, 'pegRatio': 2.35, 'ytdReturn': None, 'forwardPE': 23.97946, 'lastCapGain': None, 'shortPercentOfFloat': 0.0049, 'sharesShortPriorMonth': 41572793, 'impliedSharesOutstanding': 0, 'category': None, 'fiveYearAverageReturn': None, 'trailingAnnualDividendYield': 0.010063866, 'payoutRatio': 0.28219998, 'volume24Hr': None, 'navPrice': None, 'trailingAnnualDividendRate': 2.6, 'toCurrency': None, 'expireDate': None, 'algorithm': None, 'dividendRate': 2.72, 'exDividendDate': 1676419200, 'circulatingSupply': None, 'startDate': None, 'trailingPE': 28.535557, 'lastMarket': None, 'maxSupply': None, 'openInterest': None, 'volumeAllCurrencies': None, 'strikePrice': None, 'ask': 256.58, 'askSize': 1000, 'fromCurrency': None, 'fiveYearAvgDividendYield': 1.14, 'bid': 256.6, 'tradeable': False, 'dividendYield': 0.0105, 'bidSize': 1300, 'coinMarketCapLink': None, 'preMarketPrice': 257.44, 'logo_url': 'https://logo.clearbit.com/microsoft.com', 'trailingPegRatio': 2.2959}"
            ]
          },
          "metadata": {},
          "execution_count": 3
        }
      ]
    },
    {
      "cell_type": "code",
      "source": [
        "# get historical market data\n",
        "msft.history(period=\"max\")"
      ],
      "metadata": {
        "colab": {
          "base_uri": "https://localhost:8080/",
          "height": 455
        },
        "id": "4guogig6S5sf",
        "outputId": "7238950c-8948-44eb-8ff7-f7e19fe8da35"
      },
      "execution_count": 4,
      "outputs": [
        {
          "output_type": "execute_result",
          "data": {
            "text/plain": [
              "                                 Open        High         Low       Close  \\\n",
              "Date                                                                        \n",
              "1986-03-13 00:00:00-05:00    0.055380    0.063524    0.055380    0.060809   \n",
              "1986-03-14 00:00:00-05:00    0.060809    0.064067    0.060809    0.062980   \n",
              "1986-03-17 00:00:00-05:00    0.062980    0.064609    0.062980    0.064067   \n",
              "1986-03-18 00:00:00-05:00    0.064067    0.064609    0.061894    0.062437   \n",
              "1986-03-19 00:00:00-05:00    0.062437    0.062980    0.060809    0.061351   \n",
              "...                               ...         ...         ...         ...   \n",
              "2023-01-31 00:00:00-05:00  243.449997  247.949997  242.949997  247.809998   \n",
              "2023-02-01 00:00:00-05:00  248.000000  255.179993  245.470001  252.750000   \n",
              "2023-02-02 00:00:00-05:00  258.820007  264.690002  257.250000  264.600006   \n",
              "2023-02-03 00:00:00-05:00  259.540009  264.200012  257.100006  258.350006   \n",
              "2023-02-06 00:00:00-05:00  257.440002  257.929993  255.690002  256.619995   \n",
              "\n",
              "                               Volume  Dividends  Stock Splits  \n",
              "Date                                                            \n",
              "1986-03-13 00:00:00-05:00  1031788800        0.0           0.0  \n",
              "1986-03-14 00:00:00-05:00   308160000        0.0           0.0  \n",
              "1986-03-17 00:00:00-05:00   133171200        0.0           0.0  \n",
              "1986-03-18 00:00:00-05:00    67766400        0.0           0.0  \n",
              "1986-03-19 00:00:00-05:00    47894400        0.0           0.0  \n",
              "...                               ...        ...           ...  \n",
              "2023-01-31 00:00:00-05:00    26541100        0.0           0.0  \n",
              "2023-02-01 00:00:00-05:00    31259900        0.0           0.0  \n",
              "2023-02-02 00:00:00-05:00    39940400        0.0           0.0  \n",
              "2023-02-03 00:00:00-05:00    29062300        0.0           0.0  \n",
              "2023-02-06 00:00:00-05:00     3956515        0.0           0.0  \n",
              "\n",
              "[9301 rows x 7 columns]"
            ],
            "text/html": [
              "\n",
              "  <div id=\"df-6cf18ed5-a627-47e5-a844-838aa4b56cdb\">\n",
              "    <div class=\"colab-df-container\">\n",
              "      <div>\n",
              "<style scoped>\n",
              "    .dataframe tbody tr th:only-of-type {\n",
              "        vertical-align: middle;\n",
              "    }\n",
              "\n",
              "    .dataframe tbody tr th {\n",
              "        vertical-align: top;\n",
              "    }\n",
              "\n",
              "    .dataframe thead th {\n",
              "        text-align: right;\n",
              "    }\n",
              "</style>\n",
              "<table border=\"1\" class=\"dataframe\">\n",
              "  <thead>\n",
              "    <tr style=\"text-align: right;\">\n",
              "      <th></th>\n",
              "      <th>Open</th>\n",
              "      <th>High</th>\n",
              "      <th>Low</th>\n",
              "      <th>Close</th>\n",
              "      <th>Volume</th>\n",
              "      <th>Dividends</th>\n",
              "      <th>Stock Splits</th>\n",
              "    </tr>\n",
              "    <tr>\n",
              "      <th>Date</th>\n",
              "      <th></th>\n",
              "      <th></th>\n",
              "      <th></th>\n",
              "      <th></th>\n",
              "      <th></th>\n",
              "      <th></th>\n",
              "      <th></th>\n",
              "    </tr>\n",
              "  </thead>\n",
              "  <tbody>\n",
              "    <tr>\n",
              "      <th>1986-03-13 00:00:00-05:00</th>\n",
              "      <td>0.055380</td>\n",
              "      <td>0.063524</td>\n",
              "      <td>0.055380</td>\n",
              "      <td>0.060809</td>\n",
              "      <td>1031788800</td>\n",
              "      <td>0.0</td>\n",
              "      <td>0.0</td>\n",
              "    </tr>\n",
              "    <tr>\n",
              "      <th>1986-03-14 00:00:00-05:00</th>\n",
              "      <td>0.060809</td>\n",
              "      <td>0.064067</td>\n",
              "      <td>0.060809</td>\n",
              "      <td>0.062980</td>\n",
              "      <td>308160000</td>\n",
              "      <td>0.0</td>\n",
              "      <td>0.0</td>\n",
              "    </tr>\n",
              "    <tr>\n",
              "      <th>1986-03-17 00:00:00-05:00</th>\n",
              "      <td>0.062980</td>\n",
              "      <td>0.064609</td>\n",
              "      <td>0.062980</td>\n",
              "      <td>0.064067</td>\n",
              "      <td>133171200</td>\n",
              "      <td>0.0</td>\n",
              "      <td>0.0</td>\n",
              "    </tr>\n",
              "    <tr>\n",
              "      <th>1986-03-18 00:00:00-05:00</th>\n",
              "      <td>0.064067</td>\n",
              "      <td>0.064609</td>\n",
              "      <td>0.061894</td>\n",
              "      <td>0.062437</td>\n",
              "      <td>67766400</td>\n",
              "      <td>0.0</td>\n",
              "      <td>0.0</td>\n",
              "    </tr>\n",
              "    <tr>\n",
              "      <th>1986-03-19 00:00:00-05:00</th>\n",
              "      <td>0.062437</td>\n",
              "      <td>0.062980</td>\n",
              "      <td>0.060809</td>\n",
              "      <td>0.061351</td>\n",
              "      <td>47894400</td>\n",
              "      <td>0.0</td>\n",
              "      <td>0.0</td>\n",
              "    </tr>\n",
              "    <tr>\n",
              "      <th>...</th>\n",
              "      <td>...</td>\n",
              "      <td>...</td>\n",
              "      <td>...</td>\n",
              "      <td>...</td>\n",
              "      <td>...</td>\n",
              "      <td>...</td>\n",
              "      <td>...</td>\n",
              "    </tr>\n",
              "    <tr>\n",
              "      <th>2023-01-31 00:00:00-05:00</th>\n",
              "      <td>243.449997</td>\n",
              "      <td>247.949997</td>\n",
              "      <td>242.949997</td>\n",
              "      <td>247.809998</td>\n",
              "      <td>26541100</td>\n",
              "      <td>0.0</td>\n",
              "      <td>0.0</td>\n",
              "    </tr>\n",
              "    <tr>\n",
              "      <th>2023-02-01 00:00:00-05:00</th>\n",
              "      <td>248.000000</td>\n",
              "      <td>255.179993</td>\n",
              "      <td>245.470001</td>\n",
              "      <td>252.750000</td>\n",
              "      <td>31259900</td>\n",
              "      <td>0.0</td>\n",
              "      <td>0.0</td>\n",
              "    </tr>\n",
              "    <tr>\n",
              "      <th>2023-02-02 00:00:00-05:00</th>\n",
              "      <td>258.820007</td>\n",
              "      <td>264.690002</td>\n",
              "      <td>257.250000</td>\n",
              "      <td>264.600006</td>\n",
              "      <td>39940400</td>\n",
              "      <td>0.0</td>\n",
              "      <td>0.0</td>\n",
              "    </tr>\n",
              "    <tr>\n",
              "      <th>2023-02-03 00:00:00-05:00</th>\n",
              "      <td>259.540009</td>\n",
              "      <td>264.200012</td>\n",
              "      <td>257.100006</td>\n",
              "      <td>258.350006</td>\n",
              "      <td>29062300</td>\n",
              "      <td>0.0</td>\n",
              "      <td>0.0</td>\n",
              "    </tr>\n",
              "    <tr>\n",
              "      <th>2023-02-06 00:00:00-05:00</th>\n",
              "      <td>257.440002</td>\n",
              "      <td>257.929993</td>\n",
              "      <td>255.690002</td>\n",
              "      <td>256.619995</td>\n",
              "      <td>3956515</td>\n",
              "      <td>0.0</td>\n",
              "      <td>0.0</td>\n",
              "    </tr>\n",
              "  </tbody>\n",
              "</table>\n",
              "<p>9301 rows × 7 columns</p>\n",
              "</div>\n",
              "      <button class=\"colab-df-convert\" onclick=\"convertToInteractive('df-6cf18ed5-a627-47e5-a844-838aa4b56cdb')\"\n",
              "              title=\"Convert this dataframe to an interactive table.\"\n",
              "              style=\"display:none;\">\n",
              "        \n",
              "  <svg xmlns=\"http://www.w3.org/2000/svg\" height=\"24px\"viewBox=\"0 0 24 24\"\n",
              "       width=\"24px\">\n",
              "    <path d=\"M0 0h24v24H0V0z\" fill=\"none\"/>\n",
              "    <path d=\"M18.56 5.44l.94 2.06.94-2.06 2.06-.94-2.06-.94-.94-2.06-.94 2.06-2.06.94zm-11 1L8.5 8.5l.94-2.06 2.06-.94-2.06-.94L8.5 2.5l-.94 2.06-2.06.94zm10 10l.94 2.06.94-2.06 2.06-.94-2.06-.94-.94-2.06-.94 2.06-2.06.94z\"/><path d=\"M17.41 7.96l-1.37-1.37c-.4-.4-.92-.59-1.43-.59-.52 0-1.04.2-1.43.59L10.3 9.45l-7.72 7.72c-.78.78-.78 2.05 0 2.83L4 21.41c.39.39.9.59 1.41.59.51 0 1.02-.2 1.41-.59l7.78-7.78 2.81-2.81c.8-.78.8-2.07 0-2.86zM5.41 20L4 18.59l7.72-7.72 1.47 1.35L5.41 20z\"/>\n",
              "  </svg>\n",
              "      </button>\n",
              "      \n",
              "  <style>\n",
              "    .colab-df-container {\n",
              "      display:flex;\n",
              "      flex-wrap:wrap;\n",
              "      gap: 12px;\n",
              "    }\n",
              "\n",
              "    .colab-df-convert {\n",
              "      background-color: #E8F0FE;\n",
              "      border: none;\n",
              "      border-radius: 50%;\n",
              "      cursor: pointer;\n",
              "      display: none;\n",
              "      fill: #1967D2;\n",
              "      height: 32px;\n",
              "      padding: 0 0 0 0;\n",
              "      width: 32px;\n",
              "    }\n",
              "\n",
              "    .colab-df-convert:hover {\n",
              "      background-color: #E2EBFA;\n",
              "      box-shadow: 0px 1px 2px rgba(60, 64, 67, 0.3), 0px 1px 3px 1px rgba(60, 64, 67, 0.15);\n",
              "      fill: #174EA6;\n",
              "    }\n",
              "\n",
              "    [theme=dark] .colab-df-convert {\n",
              "      background-color: #3B4455;\n",
              "      fill: #D2E3FC;\n",
              "    }\n",
              "\n",
              "    [theme=dark] .colab-df-convert:hover {\n",
              "      background-color: #434B5C;\n",
              "      box-shadow: 0px 1px 3px 1px rgba(0, 0, 0, 0.15);\n",
              "      filter: drop-shadow(0px 1px 2px rgba(0, 0, 0, 0.3));\n",
              "      fill: #FFFFFF;\n",
              "    }\n",
              "  </style>\n",
              "\n",
              "      <script>\n",
              "        const buttonEl =\n",
              "          document.querySelector('#df-6cf18ed5-a627-47e5-a844-838aa4b56cdb button.colab-df-convert');\n",
              "        buttonEl.style.display =\n",
              "          google.colab.kernel.accessAllowed ? 'block' : 'none';\n",
              "\n",
              "        async function convertToInteractive(key) {\n",
              "          const element = document.querySelector('#df-6cf18ed5-a627-47e5-a844-838aa4b56cdb');\n",
              "          const dataTable =\n",
              "            await google.colab.kernel.invokeFunction('convertToInteractive',\n",
              "                                                     [key], {});\n",
              "          if (!dataTable) return;\n",
              "\n",
              "          const docLinkHtml = 'Like what you see? Visit the ' +\n",
              "            '<a target=\"_blank\" href=https://colab.research.google.com/notebooks/data_table.ipynb>data table notebook</a>'\n",
              "            + ' to learn more about interactive tables.';\n",
              "          element.innerHTML = '';\n",
              "          dataTable['output_type'] = 'display_data';\n",
              "          await google.colab.output.renderOutput(dataTable, element);\n",
              "          const docLink = document.createElement('div');\n",
              "          docLink.innerHTML = docLinkHtml;\n",
              "          element.appendChild(docLink);\n",
              "        }\n",
              "      </script>\n",
              "    </div>\n",
              "  </div>\n",
              "  "
            ]
          },
          "metadata": {},
          "execution_count": 4
        }
      ]
    },
    {
      "cell_type": "code",
      "source": [
        "# show actions (dividends, splits)\n",
        "msft.actions"
      ],
      "metadata": {
        "colab": {
          "base_uri": "https://localhost:8080/",
          "height": 455
        },
        "id": "trNnIxQgTNLp",
        "outputId": "f154e392-4bd1-457b-af31-0214d86516e1"
      },
      "execution_count": 5,
      "outputs": [
        {
          "output_type": "execute_result",
          "data": {
            "text/plain": [
              "                           Dividends  Stock Splits\n",
              "Date                                              \n",
              "1987-09-21 00:00:00-04:00       0.00           2.0\n",
              "1990-04-16 00:00:00-04:00       0.00           2.0\n",
              "1991-06-27 00:00:00-04:00       0.00           1.5\n",
              "1992-06-15 00:00:00-04:00       0.00           1.5\n",
              "1994-05-23 00:00:00-04:00       0.00           2.0\n",
              "...                              ...           ...\n",
              "2021-11-17 00:00:00-05:00       0.62           0.0\n",
              "2022-02-16 00:00:00-05:00       0.62           0.0\n",
              "2022-05-18 00:00:00-04:00       0.62           0.0\n",
              "2022-08-17 00:00:00-04:00       0.62           0.0\n",
              "2022-11-16 00:00:00-05:00       0.68           0.0\n",
              "\n",
              "[85 rows x 2 columns]"
            ],
            "text/html": [
              "\n",
              "  <div id=\"df-5843aa50-ccff-47b8-a4f8-637a2402cb11\">\n",
              "    <div class=\"colab-df-container\">\n",
              "      <div>\n",
              "<style scoped>\n",
              "    .dataframe tbody tr th:only-of-type {\n",
              "        vertical-align: middle;\n",
              "    }\n",
              "\n",
              "    .dataframe tbody tr th {\n",
              "        vertical-align: top;\n",
              "    }\n",
              "\n",
              "    .dataframe thead th {\n",
              "        text-align: right;\n",
              "    }\n",
              "</style>\n",
              "<table border=\"1\" class=\"dataframe\">\n",
              "  <thead>\n",
              "    <tr style=\"text-align: right;\">\n",
              "      <th></th>\n",
              "      <th>Dividends</th>\n",
              "      <th>Stock Splits</th>\n",
              "    </tr>\n",
              "    <tr>\n",
              "      <th>Date</th>\n",
              "      <th></th>\n",
              "      <th></th>\n",
              "    </tr>\n",
              "  </thead>\n",
              "  <tbody>\n",
              "    <tr>\n",
              "      <th>1987-09-21 00:00:00-04:00</th>\n",
              "      <td>0.00</td>\n",
              "      <td>2.0</td>\n",
              "    </tr>\n",
              "    <tr>\n",
              "      <th>1990-04-16 00:00:00-04:00</th>\n",
              "      <td>0.00</td>\n",
              "      <td>2.0</td>\n",
              "    </tr>\n",
              "    <tr>\n",
              "      <th>1991-06-27 00:00:00-04:00</th>\n",
              "      <td>0.00</td>\n",
              "      <td>1.5</td>\n",
              "    </tr>\n",
              "    <tr>\n",
              "      <th>1992-06-15 00:00:00-04:00</th>\n",
              "      <td>0.00</td>\n",
              "      <td>1.5</td>\n",
              "    </tr>\n",
              "    <tr>\n",
              "      <th>1994-05-23 00:00:00-04:00</th>\n",
              "      <td>0.00</td>\n",
              "      <td>2.0</td>\n",
              "    </tr>\n",
              "    <tr>\n",
              "      <th>...</th>\n",
              "      <td>...</td>\n",
              "      <td>...</td>\n",
              "    </tr>\n",
              "    <tr>\n",
              "      <th>2021-11-17 00:00:00-05:00</th>\n",
              "      <td>0.62</td>\n",
              "      <td>0.0</td>\n",
              "    </tr>\n",
              "    <tr>\n",
              "      <th>2022-02-16 00:00:00-05:00</th>\n",
              "      <td>0.62</td>\n",
              "      <td>0.0</td>\n",
              "    </tr>\n",
              "    <tr>\n",
              "      <th>2022-05-18 00:00:00-04:00</th>\n",
              "      <td>0.62</td>\n",
              "      <td>0.0</td>\n",
              "    </tr>\n",
              "    <tr>\n",
              "      <th>2022-08-17 00:00:00-04:00</th>\n",
              "      <td>0.62</td>\n",
              "      <td>0.0</td>\n",
              "    </tr>\n",
              "    <tr>\n",
              "      <th>2022-11-16 00:00:00-05:00</th>\n",
              "      <td>0.68</td>\n",
              "      <td>0.0</td>\n",
              "    </tr>\n",
              "  </tbody>\n",
              "</table>\n",
              "<p>85 rows × 2 columns</p>\n",
              "</div>\n",
              "      <button class=\"colab-df-convert\" onclick=\"convertToInteractive('df-5843aa50-ccff-47b8-a4f8-637a2402cb11')\"\n",
              "              title=\"Convert this dataframe to an interactive table.\"\n",
              "              style=\"display:none;\">\n",
              "        \n",
              "  <svg xmlns=\"http://www.w3.org/2000/svg\" height=\"24px\"viewBox=\"0 0 24 24\"\n",
              "       width=\"24px\">\n",
              "    <path d=\"M0 0h24v24H0V0z\" fill=\"none\"/>\n",
              "    <path d=\"M18.56 5.44l.94 2.06.94-2.06 2.06-.94-2.06-.94-.94-2.06-.94 2.06-2.06.94zm-11 1L8.5 8.5l.94-2.06 2.06-.94-2.06-.94L8.5 2.5l-.94 2.06-2.06.94zm10 10l.94 2.06.94-2.06 2.06-.94-2.06-.94-.94-2.06-.94 2.06-2.06.94z\"/><path d=\"M17.41 7.96l-1.37-1.37c-.4-.4-.92-.59-1.43-.59-.52 0-1.04.2-1.43.59L10.3 9.45l-7.72 7.72c-.78.78-.78 2.05 0 2.83L4 21.41c.39.39.9.59 1.41.59.51 0 1.02-.2 1.41-.59l7.78-7.78 2.81-2.81c.8-.78.8-2.07 0-2.86zM5.41 20L4 18.59l7.72-7.72 1.47 1.35L5.41 20z\"/>\n",
              "  </svg>\n",
              "      </button>\n",
              "      \n",
              "  <style>\n",
              "    .colab-df-container {\n",
              "      display:flex;\n",
              "      flex-wrap:wrap;\n",
              "      gap: 12px;\n",
              "    }\n",
              "\n",
              "    .colab-df-convert {\n",
              "      background-color: #E8F0FE;\n",
              "      border: none;\n",
              "      border-radius: 50%;\n",
              "      cursor: pointer;\n",
              "      display: none;\n",
              "      fill: #1967D2;\n",
              "      height: 32px;\n",
              "      padding: 0 0 0 0;\n",
              "      width: 32px;\n",
              "    }\n",
              "\n",
              "    .colab-df-convert:hover {\n",
              "      background-color: #E2EBFA;\n",
              "      box-shadow: 0px 1px 2px rgba(60, 64, 67, 0.3), 0px 1px 3px 1px rgba(60, 64, 67, 0.15);\n",
              "      fill: #174EA6;\n",
              "    }\n",
              "\n",
              "    [theme=dark] .colab-df-convert {\n",
              "      background-color: #3B4455;\n",
              "      fill: #D2E3FC;\n",
              "    }\n",
              "\n",
              "    [theme=dark] .colab-df-convert:hover {\n",
              "      background-color: #434B5C;\n",
              "      box-shadow: 0px 1px 3px 1px rgba(0, 0, 0, 0.15);\n",
              "      filter: drop-shadow(0px 1px 2px rgba(0, 0, 0, 0.3));\n",
              "      fill: #FFFFFF;\n",
              "    }\n",
              "  </style>\n",
              "\n",
              "      <script>\n",
              "        const buttonEl =\n",
              "          document.querySelector('#df-5843aa50-ccff-47b8-a4f8-637a2402cb11 button.colab-df-convert');\n",
              "        buttonEl.style.display =\n",
              "          google.colab.kernel.accessAllowed ? 'block' : 'none';\n",
              "\n",
              "        async function convertToInteractive(key) {\n",
              "          const element = document.querySelector('#df-5843aa50-ccff-47b8-a4f8-637a2402cb11');\n",
              "          const dataTable =\n",
              "            await google.colab.kernel.invokeFunction('convertToInteractive',\n",
              "                                                     [key], {});\n",
              "          if (!dataTable) return;\n",
              "\n",
              "          const docLinkHtml = 'Like what you see? Visit the ' +\n",
              "            '<a target=\"_blank\" href=https://colab.research.google.com/notebooks/data_table.ipynb>data table notebook</a>'\n",
              "            + ' to learn more about interactive tables.';\n",
              "          element.innerHTML = '';\n",
              "          dataTable['output_type'] = 'display_data';\n",
              "          await google.colab.output.renderOutput(dataTable, element);\n",
              "          const docLink = document.createElement('div');\n",
              "          docLink.innerHTML = docLinkHtml;\n",
              "          element.appendChild(docLink);\n",
              "        }\n",
              "      </script>\n",
              "    </div>\n",
              "  </div>\n",
              "  "
            ]
          },
          "metadata": {},
          "execution_count": 5
        }
      ]
    },
    {
      "cell_type": "code",
      "source": [
        "# show dividends\n",
        "msft.dividends"
      ],
      "metadata": {
        "colab": {
          "base_uri": "https://localhost:8080/"
        },
        "id": "b9QP7MgETRoD",
        "outputId": "246b4d22-a03c-4856-a98b-e7b2db596623"
      },
      "execution_count": 6,
      "outputs": [
        {
          "output_type": "execute_result",
          "data": {
            "text/plain": [
              "Date\n",
              "2003-02-19 00:00:00-05:00    0.08\n",
              "2003-10-15 00:00:00-04:00    0.16\n",
              "2004-08-23 00:00:00-04:00    0.08\n",
              "2004-11-15 00:00:00-05:00    3.08\n",
              "2005-02-15 00:00:00-05:00    0.08\n",
              "                             ... \n",
              "2021-11-17 00:00:00-05:00    0.62\n",
              "2022-02-16 00:00:00-05:00    0.62\n",
              "2022-05-18 00:00:00-04:00    0.62\n",
              "2022-08-17 00:00:00-04:00    0.62\n",
              "2022-11-16 00:00:00-05:00    0.68\n",
              "Name: Dividends, Length: 76, dtype: float64"
            ]
          },
          "metadata": {},
          "execution_count": 6
        }
      ]
    },
    {
      "cell_type": "code",
      "source": [
        "# show splits\n",
        "msft.splits"
      ],
      "metadata": {
        "colab": {
          "base_uri": "https://localhost:8080/"
        },
        "id": "BAT-eCDzTXrR",
        "outputId": "79b7f5a4-5e1c-406b-863a-15a0621099ba"
      },
      "execution_count": 7,
      "outputs": [
        {
          "output_type": "execute_result",
          "data": {
            "text/plain": [
              "Date\n",
              "1987-09-21 00:00:00-04:00    2.0\n",
              "1990-04-16 00:00:00-04:00    2.0\n",
              "1991-06-27 00:00:00-04:00    1.5\n",
              "1992-06-15 00:00:00-04:00    1.5\n",
              "1994-05-23 00:00:00-04:00    2.0\n",
              "1996-12-09 00:00:00-05:00    2.0\n",
              "1998-02-23 00:00:00-05:00    2.0\n",
              "1999-03-29 00:00:00-05:00    2.0\n",
              "2003-02-18 00:00:00-05:00    2.0\n",
              "Name: Stock Splits, dtype: float64"
            ]
          },
          "metadata": {},
          "execution_count": 7
        }
      ]
    },
    {
      "cell_type": "markdown",
      "source": [
        "**Beter beleggen dan de bank BBbbB-feb2023:**\n",
        "\n",
        "conservative_prefs,”AGNCO”,”ABR-F”,”CHMI-B”,”CMI-D”,”CODI-C”,”CMRE-E”,”GLOG-A”,”GSL-B”,”NYMTM”,”RITM-C”,”RTLPP”,”TNP-E”,”TWO-A”\n",
        "\n",
        "conservative_bonds,”COWNL”,”HROWL”,”NSS”,”SCCB”,”TANNZ”\n",
        "\n",
        "advanced_reits,”ARI”,”ABR”,”ACRE”,”EPRT”,”GOOD”,”MPW”,”PMT”,”STAG”,“VICI”,”WPC”\n",
        "\n",
        "advanced_bcds,”ARCC”,“CSWC”,”MAIN”,“SAR”,“TPVG”\n",
        "\n",
        "removed_cefs,”IGR”,“CGO”,“JHI”,“GGT”\n",
        "\n",
        "removed_prefs,”FBIOP”\n",
        "\n",
        "removed_reits,”IRM”\n",
        "\n",
        "removed_bcds,”NEWT”\n"
      ],
      "metadata": {
        "id": "PvoYW8Sea52B"
      }
    },
    {
      "cell_type": "code",
      "source": [
        "# Mass download of market data:\n",
        "\n",
        "import yfinance as yf\n",
        "data = yf.download(\"SPY AAPL\", start=\"2017-01-01\", end=\"2017-04-30\")\n",
        "\n",
        "data.head()"
      ],
      "metadata": {
        "colab": {
          "base_uri": "https://localhost:8080/",
          "height": 286
        },
        "id": "k4AGTEi-Tels",
        "outputId": "81d9ed3e-9473-4b70-d48a-cb8f56b45512"
      },
      "execution_count": 12,
      "outputs": [
        {
          "output_type": "stream",
          "name": "stdout",
          "text": [
            "[*********************100%***********************]  2 of 2 completed\n"
          ]
        },
        {
          "output_type": "execute_result",
          "data": {
            "text/plain": [
              "                           Adj Close                  Close              \\\n",
              "                                AAPL         SPY       AAPL         SPY   \n",
              "Date                                                                      \n",
              "2017-01-03 00:00:00-05:00  27.174755  202.856537  29.037500  225.240005   \n",
              "2017-01-04 00:00:00-05:00  27.144335  204.063385  29.004999  226.580002   \n",
              "2017-01-05 00:00:00-05:00  27.282373  203.901276  29.152500  226.399994   \n",
              "2017-01-06 00:00:00-05:00  27.586523  204.630753  29.477501  227.210007   \n",
              "2017-01-09 00:00:00-05:00  27.839209  203.955292  29.747499  226.460007   \n",
              "\n",
              "                                High                    Low              \\\n",
              "                                AAPL         SPY       AAPL         SPY   \n",
              "Date                                                                      \n",
              "2017-01-03 00:00:00-05:00  29.082500  225.830002  28.690001  223.880005   \n",
              "2017-01-04 00:00:00-05:00  29.127501  226.750000  28.937500  225.610001   \n",
              "2017-01-05 00:00:00-05:00  29.215000  226.580002  28.952499  225.479996   \n",
              "2017-01-06 00:00:00-05:00  29.540001  227.750000  29.117500  225.899994   \n",
              "2017-01-09 00:00:00-05:00  29.857500  227.070007  29.485001  226.419998   \n",
              "\n",
              "                                Open                 Volume            \n",
              "                                AAPL         SPY       AAPL       SPY  \n",
              "Date                                                                   \n",
              "2017-01-03 00:00:00-05:00  28.950001  225.039993  115127600  91366500  \n",
              "2017-01-04 00:00:00-05:00  28.962500  225.619995   84472400  78744400  \n",
              "2017-01-05 00:00:00-05:00  28.980000  226.270004   88774400  78379000  \n",
              "2017-01-06 00:00:00-05:00  29.195000  226.529999  127007600  71559900  \n",
              "2017-01-09 00:00:00-05:00  29.487499  226.910004  134247600  46939700  "
            ],
            "text/html": [
              "\n",
              "  <div id=\"df-964099fd-e0c0-4aec-8d82-6a1d71973736\">\n",
              "    <div class=\"colab-df-container\">\n",
              "      <div>\n",
              "<style scoped>\n",
              "    .dataframe tbody tr th:only-of-type {\n",
              "        vertical-align: middle;\n",
              "    }\n",
              "\n",
              "    .dataframe tbody tr th {\n",
              "        vertical-align: top;\n",
              "    }\n",
              "\n",
              "    .dataframe thead tr th {\n",
              "        text-align: left;\n",
              "    }\n",
              "\n",
              "    .dataframe thead tr:last-of-type th {\n",
              "        text-align: right;\n",
              "    }\n",
              "</style>\n",
              "<table border=\"1\" class=\"dataframe\">\n",
              "  <thead>\n",
              "    <tr>\n",
              "      <th></th>\n",
              "      <th colspan=\"2\" halign=\"left\">Adj Close</th>\n",
              "      <th colspan=\"2\" halign=\"left\">Close</th>\n",
              "      <th colspan=\"2\" halign=\"left\">High</th>\n",
              "      <th colspan=\"2\" halign=\"left\">Low</th>\n",
              "      <th colspan=\"2\" halign=\"left\">Open</th>\n",
              "      <th colspan=\"2\" halign=\"left\">Volume</th>\n",
              "    </tr>\n",
              "    <tr>\n",
              "      <th></th>\n",
              "      <th>AAPL</th>\n",
              "      <th>SPY</th>\n",
              "      <th>AAPL</th>\n",
              "      <th>SPY</th>\n",
              "      <th>AAPL</th>\n",
              "      <th>SPY</th>\n",
              "      <th>AAPL</th>\n",
              "      <th>SPY</th>\n",
              "      <th>AAPL</th>\n",
              "      <th>SPY</th>\n",
              "      <th>AAPL</th>\n",
              "      <th>SPY</th>\n",
              "    </tr>\n",
              "    <tr>\n",
              "      <th>Date</th>\n",
              "      <th></th>\n",
              "      <th></th>\n",
              "      <th></th>\n",
              "      <th></th>\n",
              "      <th></th>\n",
              "      <th></th>\n",
              "      <th></th>\n",
              "      <th></th>\n",
              "      <th></th>\n",
              "      <th></th>\n",
              "      <th></th>\n",
              "      <th></th>\n",
              "    </tr>\n",
              "  </thead>\n",
              "  <tbody>\n",
              "    <tr>\n",
              "      <th>2017-01-03 00:00:00-05:00</th>\n",
              "      <td>27.174755</td>\n",
              "      <td>202.856537</td>\n",
              "      <td>29.037500</td>\n",
              "      <td>225.240005</td>\n",
              "      <td>29.082500</td>\n",
              "      <td>225.830002</td>\n",
              "      <td>28.690001</td>\n",
              "      <td>223.880005</td>\n",
              "      <td>28.950001</td>\n",
              "      <td>225.039993</td>\n",
              "      <td>115127600</td>\n",
              "      <td>91366500</td>\n",
              "    </tr>\n",
              "    <tr>\n",
              "      <th>2017-01-04 00:00:00-05:00</th>\n",
              "      <td>27.144335</td>\n",
              "      <td>204.063385</td>\n",
              "      <td>29.004999</td>\n",
              "      <td>226.580002</td>\n",
              "      <td>29.127501</td>\n",
              "      <td>226.750000</td>\n",
              "      <td>28.937500</td>\n",
              "      <td>225.610001</td>\n",
              "      <td>28.962500</td>\n",
              "      <td>225.619995</td>\n",
              "      <td>84472400</td>\n",
              "      <td>78744400</td>\n",
              "    </tr>\n",
              "    <tr>\n",
              "      <th>2017-01-05 00:00:00-05:00</th>\n",
              "      <td>27.282373</td>\n",
              "      <td>203.901276</td>\n",
              "      <td>29.152500</td>\n",
              "      <td>226.399994</td>\n",
              "      <td>29.215000</td>\n",
              "      <td>226.580002</td>\n",
              "      <td>28.952499</td>\n",
              "      <td>225.479996</td>\n",
              "      <td>28.980000</td>\n",
              "      <td>226.270004</td>\n",
              "      <td>88774400</td>\n",
              "      <td>78379000</td>\n",
              "    </tr>\n",
              "    <tr>\n",
              "      <th>2017-01-06 00:00:00-05:00</th>\n",
              "      <td>27.586523</td>\n",
              "      <td>204.630753</td>\n",
              "      <td>29.477501</td>\n",
              "      <td>227.210007</td>\n",
              "      <td>29.540001</td>\n",
              "      <td>227.750000</td>\n",
              "      <td>29.117500</td>\n",
              "      <td>225.899994</td>\n",
              "      <td>29.195000</td>\n",
              "      <td>226.529999</td>\n",
              "      <td>127007600</td>\n",
              "      <td>71559900</td>\n",
              "    </tr>\n",
              "    <tr>\n",
              "      <th>2017-01-09 00:00:00-05:00</th>\n",
              "      <td>27.839209</td>\n",
              "      <td>203.955292</td>\n",
              "      <td>29.747499</td>\n",
              "      <td>226.460007</td>\n",
              "      <td>29.857500</td>\n",
              "      <td>227.070007</td>\n",
              "      <td>29.485001</td>\n",
              "      <td>226.419998</td>\n",
              "      <td>29.487499</td>\n",
              "      <td>226.910004</td>\n",
              "      <td>134247600</td>\n",
              "      <td>46939700</td>\n",
              "    </tr>\n",
              "  </tbody>\n",
              "</table>\n",
              "</div>\n",
              "      <button class=\"colab-df-convert\" onclick=\"convertToInteractive('df-964099fd-e0c0-4aec-8d82-6a1d71973736')\"\n",
              "              title=\"Convert this dataframe to an interactive table.\"\n",
              "              style=\"display:none;\">\n",
              "        \n",
              "  <svg xmlns=\"http://www.w3.org/2000/svg\" height=\"24px\"viewBox=\"0 0 24 24\"\n",
              "       width=\"24px\">\n",
              "    <path d=\"M0 0h24v24H0V0z\" fill=\"none\"/>\n",
              "    <path d=\"M18.56 5.44l.94 2.06.94-2.06 2.06-.94-2.06-.94-.94-2.06-.94 2.06-2.06.94zm-11 1L8.5 8.5l.94-2.06 2.06-.94-2.06-.94L8.5 2.5l-.94 2.06-2.06.94zm10 10l.94 2.06.94-2.06 2.06-.94-2.06-.94-.94-2.06-.94 2.06-2.06.94z\"/><path d=\"M17.41 7.96l-1.37-1.37c-.4-.4-.92-.59-1.43-.59-.52 0-1.04.2-1.43.59L10.3 9.45l-7.72 7.72c-.78.78-.78 2.05 0 2.83L4 21.41c.39.39.9.59 1.41.59.51 0 1.02-.2 1.41-.59l7.78-7.78 2.81-2.81c.8-.78.8-2.07 0-2.86zM5.41 20L4 18.59l7.72-7.72 1.47 1.35L5.41 20z\"/>\n",
              "  </svg>\n",
              "      </button>\n",
              "      \n",
              "  <style>\n",
              "    .colab-df-container {\n",
              "      display:flex;\n",
              "      flex-wrap:wrap;\n",
              "      gap: 12px;\n",
              "    }\n",
              "\n",
              "    .colab-df-convert {\n",
              "      background-color: #E8F0FE;\n",
              "      border: none;\n",
              "      border-radius: 50%;\n",
              "      cursor: pointer;\n",
              "      display: none;\n",
              "      fill: #1967D2;\n",
              "      height: 32px;\n",
              "      padding: 0 0 0 0;\n",
              "      width: 32px;\n",
              "    }\n",
              "\n",
              "    .colab-df-convert:hover {\n",
              "      background-color: #E2EBFA;\n",
              "      box-shadow: 0px 1px 2px rgba(60, 64, 67, 0.3), 0px 1px 3px 1px rgba(60, 64, 67, 0.15);\n",
              "      fill: #174EA6;\n",
              "    }\n",
              "\n",
              "    [theme=dark] .colab-df-convert {\n",
              "      background-color: #3B4455;\n",
              "      fill: #D2E3FC;\n",
              "    }\n",
              "\n",
              "    [theme=dark] .colab-df-convert:hover {\n",
              "      background-color: #434B5C;\n",
              "      box-shadow: 0px 1px 3px 1px rgba(0, 0, 0, 0.15);\n",
              "      filter: drop-shadow(0px 1px 2px rgba(0, 0, 0, 0.3));\n",
              "      fill: #FFFFFF;\n",
              "    }\n",
              "  </style>\n",
              "\n",
              "      <script>\n",
              "        const buttonEl =\n",
              "          document.querySelector('#df-964099fd-e0c0-4aec-8d82-6a1d71973736 button.colab-df-convert');\n",
              "        buttonEl.style.display =\n",
              "          google.colab.kernel.accessAllowed ? 'block' : 'none';\n",
              "\n",
              "        async function convertToInteractive(key) {\n",
              "          const element = document.querySelector('#df-964099fd-e0c0-4aec-8d82-6a1d71973736');\n",
              "          const dataTable =\n",
              "            await google.colab.kernel.invokeFunction('convertToInteractive',\n",
              "                                                     [key], {});\n",
              "          if (!dataTable) return;\n",
              "\n",
              "          const docLinkHtml = 'Like what you see? Visit the ' +\n",
              "            '<a target=\"_blank\" href=https://colab.research.google.com/notebooks/data_table.ipynb>data table notebook</a>'\n",
              "            + ' to learn more about interactive tables.';\n",
              "          element.innerHTML = '';\n",
              "          dataTable['output_type'] = 'display_data';\n",
              "          await google.colab.output.renderOutput(dataTable, element);\n",
              "          const docLink = document.createElement('div');\n",
              "          docLink.innerHTML = docLinkHtml;\n",
              "          element.appendChild(docLink);\n",
              "        }\n",
              "      </script>\n",
              "    </div>\n",
              "  </div>\n",
              "  "
            ]
          },
          "metadata": {},
          "execution_count": 12
        }
      ]
    },
    {
      "cell_type": "code",
      "source": [
        "# to group by Symbool\n",
        "\n",
        "import yfinance as yf\n",
        "data = yf.download(\"SPY AAPL\", start=\"2017-01-01\", end=\"2017-04-30\")\n",
        "\n",
        "data.head()"
      ],
      "metadata": {
        "colab": {
          "base_uri": "https://localhost:8080/",
          "height": 286
        },
        "id": "_CoAGPm8Tkuw",
        "outputId": "bc0a8b7e-e39d-4849-becb-cdc18b2a9301"
      },
      "execution_count": 13,
      "outputs": [
        {
          "output_type": "stream",
          "name": "stdout",
          "text": [
            "[*********************100%***********************]  2 of 2 completed\n"
          ]
        },
        {
          "output_type": "execute_result",
          "data": {
            "text/plain": [
              "                           Adj Close                  Close              \\\n",
              "                                AAPL         SPY       AAPL         SPY   \n",
              "Date                                                                      \n",
              "2017-01-03 00:00:00-05:00  27.174755  202.856537  29.037500  225.240005   \n",
              "2017-01-04 00:00:00-05:00  27.144337  204.063354  29.004999  226.580002   \n",
              "2017-01-05 00:00:00-05:00  27.282377  203.901230  29.152500  226.399994   \n",
              "2017-01-06 00:00:00-05:00  27.586525  204.630753  29.477501  227.210007   \n",
              "2017-01-09 00:00:00-05:00  27.839205  203.955292  29.747499  226.460007   \n",
              "\n",
              "                                High                    Low              \\\n",
              "                                AAPL         SPY       AAPL         SPY   \n",
              "Date                                                                      \n",
              "2017-01-03 00:00:00-05:00  29.082500  225.830002  28.690001  223.880005   \n",
              "2017-01-04 00:00:00-05:00  29.127501  226.750000  28.937500  225.610001   \n",
              "2017-01-05 00:00:00-05:00  29.215000  226.580002  28.952499  225.479996   \n",
              "2017-01-06 00:00:00-05:00  29.540001  227.750000  29.117500  225.899994   \n",
              "2017-01-09 00:00:00-05:00  29.857500  227.070007  29.485001  226.419998   \n",
              "\n",
              "                                Open                 Volume            \n",
              "                                AAPL         SPY       AAPL       SPY  \n",
              "Date                                                                   \n",
              "2017-01-03 00:00:00-05:00  28.950001  225.039993  115127600  91366500  \n",
              "2017-01-04 00:00:00-05:00  28.962500  225.619995   84472400  78744400  \n",
              "2017-01-05 00:00:00-05:00  28.980000  226.270004   88774400  78379000  \n",
              "2017-01-06 00:00:00-05:00  29.195000  226.529999  127007600  71559900  \n",
              "2017-01-09 00:00:00-05:00  29.487499  226.910004  134247600  46939700  "
            ],
            "text/html": [
              "\n",
              "  <div id=\"df-f9c23a12-3185-4bba-8517-019a903e7ad0\">\n",
              "    <div class=\"colab-df-container\">\n",
              "      <div>\n",
              "<style scoped>\n",
              "    .dataframe tbody tr th:only-of-type {\n",
              "        vertical-align: middle;\n",
              "    }\n",
              "\n",
              "    .dataframe tbody tr th {\n",
              "        vertical-align: top;\n",
              "    }\n",
              "\n",
              "    .dataframe thead tr th {\n",
              "        text-align: left;\n",
              "    }\n",
              "\n",
              "    .dataframe thead tr:last-of-type th {\n",
              "        text-align: right;\n",
              "    }\n",
              "</style>\n",
              "<table border=\"1\" class=\"dataframe\">\n",
              "  <thead>\n",
              "    <tr>\n",
              "      <th></th>\n",
              "      <th colspan=\"2\" halign=\"left\">Adj Close</th>\n",
              "      <th colspan=\"2\" halign=\"left\">Close</th>\n",
              "      <th colspan=\"2\" halign=\"left\">High</th>\n",
              "      <th colspan=\"2\" halign=\"left\">Low</th>\n",
              "      <th colspan=\"2\" halign=\"left\">Open</th>\n",
              "      <th colspan=\"2\" halign=\"left\">Volume</th>\n",
              "    </tr>\n",
              "    <tr>\n",
              "      <th></th>\n",
              "      <th>AAPL</th>\n",
              "      <th>SPY</th>\n",
              "      <th>AAPL</th>\n",
              "      <th>SPY</th>\n",
              "      <th>AAPL</th>\n",
              "      <th>SPY</th>\n",
              "      <th>AAPL</th>\n",
              "      <th>SPY</th>\n",
              "      <th>AAPL</th>\n",
              "      <th>SPY</th>\n",
              "      <th>AAPL</th>\n",
              "      <th>SPY</th>\n",
              "    </tr>\n",
              "    <tr>\n",
              "      <th>Date</th>\n",
              "      <th></th>\n",
              "      <th></th>\n",
              "      <th></th>\n",
              "      <th></th>\n",
              "      <th></th>\n",
              "      <th></th>\n",
              "      <th></th>\n",
              "      <th></th>\n",
              "      <th></th>\n",
              "      <th></th>\n",
              "      <th></th>\n",
              "      <th></th>\n",
              "    </tr>\n",
              "  </thead>\n",
              "  <tbody>\n",
              "    <tr>\n",
              "      <th>2017-01-03 00:00:00-05:00</th>\n",
              "      <td>27.174755</td>\n",
              "      <td>202.856537</td>\n",
              "      <td>29.037500</td>\n",
              "      <td>225.240005</td>\n",
              "      <td>29.082500</td>\n",
              "      <td>225.830002</td>\n",
              "      <td>28.690001</td>\n",
              "      <td>223.880005</td>\n",
              "      <td>28.950001</td>\n",
              "      <td>225.039993</td>\n",
              "      <td>115127600</td>\n",
              "      <td>91366500</td>\n",
              "    </tr>\n",
              "    <tr>\n",
              "      <th>2017-01-04 00:00:00-05:00</th>\n",
              "      <td>27.144337</td>\n",
              "      <td>204.063354</td>\n",
              "      <td>29.004999</td>\n",
              "      <td>226.580002</td>\n",
              "      <td>29.127501</td>\n",
              "      <td>226.750000</td>\n",
              "      <td>28.937500</td>\n",
              "      <td>225.610001</td>\n",
              "      <td>28.962500</td>\n",
              "      <td>225.619995</td>\n",
              "      <td>84472400</td>\n",
              "      <td>78744400</td>\n",
              "    </tr>\n",
              "    <tr>\n",
              "      <th>2017-01-05 00:00:00-05:00</th>\n",
              "      <td>27.282377</td>\n",
              "      <td>203.901230</td>\n",
              "      <td>29.152500</td>\n",
              "      <td>226.399994</td>\n",
              "      <td>29.215000</td>\n",
              "      <td>226.580002</td>\n",
              "      <td>28.952499</td>\n",
              "      <td>225.479996</td>\n",
              "      <td>28.980000</td>\n",
              "      <td>226.270004</td>\n",
              "      <td>88774400</td>\n",
              "      <td>78379000</td>\n",
              "    </tr>\n",
              "    <tr>\n",
              "      <th>2017-01-06 00:00:00-05:00</th>\n",
              "      <td>27.586525</td>\n",
              "      <td>204.630753</td>\n",
              "      <td>29.477501</td>\n",
              "      <td>227.210007</td>\n",
              "      <td>29.540001</td>\n",
              "      <td>227.750000</td>\n",
              "      <td>29.117500</td>\n",
              "      <td>225.899994</td>\n",
              "      <td>29.195000</td>\n",
              "      <td>226.529999</td>\n",
              "      <td>127007600</td>\n",
              "      <td>71559900</td>\n",
              "    </tr>\n",
              "    <tr>\n",
              "      <th>2017-01-09 00:00:00-05:00</th>\n",
              "      <td>27.839205</td>\n",
              "      <td>203.955292</td>\n",
              "      <td>29.747499</td>\n",
              "      <td>226.460007</td>\n",
              "      <td>29.857500</td>\n",
              "      <td>227.070007</td>\n",
              "      <td>29.485001</td>\n",
              "      <td>226.419998</td>\n",
              "      <td>29.487499</td>\n",
              "      <td>226.910004</td>\n",
              "      <td>134247600</td>\n",
              "      <td>46939700</td>\n",
              "    </tr>\n",
              "  </tbody>\n",
              "</table>\n",
              "</div>\n",
              "      <button class=\"colab-df-convert\" onclick=\"convertToInteractive('df-f9c23a12-3185-4bba-8517-019a903e7ad0')\"\n",
              "              title=\"Convert this dataframe to an interactive table.\"\n",
              "              style=\"display:none;\">\n",
              "        \n",
              "  <svg xmlns=\"http://www.w3.org/2000/svg\" height=\"24px\"viewBox=\"0 0 24 24\"\n",
              "       width=\"24px\">\n",
              "    <path d=\"M0 0h24v24H0V0z\" fill=\"none\"/>\n",
              "    <path d=\"M18.56 5.44l.94 2.06.94-2.06 2.06-.94-2.06-.94-.94-2.06-.94 2.06-2.06.94zm-11 1L8.5 8.5l.94-2.06 2.06-.94-2.06-.94L8.5 2.5l-.94 2.06-2.06.94zm10 10l.94 2.06.94-2.06 2.06-.94-2.06-.94-.94-2.06-.94 2.06-2.06.94z\"/><path d=\"M17.41 7.96l-1.37-1.37c-.4-.4-.92-.59-1.43-.59-.52 0-1.04.2-1.43.59L10.3 9.45l-7.72 7.72c-.78.78-.78 2.05 0 2.83L4 21.41c.39.39.9.59 1.41.59.51 0 1.02-.2 1.41-.59l7.78-7.78 2.81-2.81c.8-.78.8-2.07 0-2.86zM5.41 20L4 18.59l7.72-7.72 1.47 1.35L5.41 20z\"/>\n",
              "  </svg>\n",
              "      </button>\n",
              "      \n",
              "  <style>\n",
              "    .colab-df-container {\n",
              "      display:flex;\n",
              "      flex-wrap:wrap;\n",
              "      gap: 12px;\n",
              "    }\n",
              "\n",
              "    .colab-df-convert {\n",
              "      background-color: #E8F0FE;\n",
              "      border: none;\n",
              "      border-radius: 50%;\n",
              "      cursor: pointer;\n",
              "      display: none;\n",
              "      fill: #1967D2;\n",
              "      height: 32px;\n",
              "      padding: 0 0 0 0;\n",
              "      width: 32px;\n",
              "    }\n",
              "\n",
              "    .colab-df-convert:hover {\n",
              "      background-color: #E2EBFA;\n",
              "      box-shadow: 0px 1px 2px rgba(60, 64, 67, 0.3), 0px 1px 3px 1px rgba(60, 64, 67, 0.15);\n",
              "      fill: #174EA6;\n",
              "    }\n",
              "\n",
              "    [theme=dark] .colab-df-convert {\n",
              "      background-color: #3B4455;\n",
              "      fill: #D2E3FC;\n",
              "    }\n",
              "\n",
              "    [theme=dark] .colab-df-convert:hover {\n",
              "      background-color: #434B5C;\n",
              "      box-shadow: 0px 1px 3px 1px rgba(0, 0, 0, 0.15);\n",
              "      filter: drop-shadow(0px 1px 2px rgba(0, 0, 0, 0.3));\n",
              "      fill: #FFFFFF;\n",
              "    }\n",
              "  </style>\n",
              "\n",
              "      <script>\n",
              "        const buttonEl =\n",
              "          document.querySelector('#df-f9c23a12-3185-4bba-8517-019a903e7ad0 button.colab-df-convert');\n",
              "        buttonEl.style.display =\n",
              "          google.colab.kernel.accessAllowed ? 'block' : 'none';\n",
              "\n",
              "        async function convertToInteractive(key) {\n",
              "          const element = document.querySelector('#df-f9c23a12-3185-4bba-8517-019a903e7ad0');\n",
              "          const dataTable =\n",
              "            await google.colab.kernel.invokeFunction('convertToInteractive',\n",
              "                                                     [key], {});\n",
              "          if (!dataTable) return;\n",
              "\n",
              "          const docLinkHtml = 'Like what you see? Visit the ' +\n",
              "            '<a target=\"_blank\" href=https://colab.research.google.com/notebooks/data_table.ipynb>data table notebook</a>'\n",
              "            + ' to learn more about interactive tables.';\n",
              "          element.innerHTML = '';\n",
              "          dataTable['output_type'] = 'display_data';\n",
              "          await google.colab.output.renderOutput(dataTable, element);\n",
              "          const docLink = document.createElement('div');\n",
              "          docLink.innerHTML = docLinkHtml;\n",
              "          element.appendChild(docLink);\n",
              "        }\n",
              "      </script>\n",
              "    </div>\n",
              "  </div>\n",
              "  "
            ]
          },
          "metadata": {},
          "execution_count": 13
        }
      ]
    },
    {
      "cell_type": "code",
      "source": [
        "# To access the closing price data for SPY, you should use: data['SPY']['Close']."
      ],
      "metadata": {
        "id": "JBQaZpLnT9xN"
      },
      "execution_count": 15,
      "outputs": []
    },
    {
      "cell_type": "code",
      "source": [
        "# group data by Symbol\n",
        "import yfinance as yf\n",
        "data = yf.download(\"SPY AAPL\", start=\"2017-01-01\", end=\"2017-04-30\",\n",
        "                   group_by=\"ticker\")\n",
        "\n",
        "data.head()"
      ],
      "metadata": {
        "colab": {
          "base_uri": "https://localhost:8080/",
          "height": 286
        },
        "id": "GZrSWsLtUgMN",
        "outputId": "aaffd394-2f35-40b7-b5ce-a565ea38c8f4"
      },
      "execution_count": 19,
      "outputs": [
        {
          "output_type": "stream",
          "name": "stdout",
          "text": [
            "[*********************100%***********************]  2 of 2 completed\n"
          ]
        },
        {
          "output_type": "execute_result",
          "data": {
            "text/plain": [
              "                                  SPY                                      \\\n",
              "                                 Open        High         Low       Close   \n",
              "Date                                                                        \n",
              "2017-01-03 00:00:00-05:00  225.039993  225.830002  223.880005  225.240005   \n",
              "2017-01-04 00:00:00-05:00  225.619995  226.750000  225.610001  226.580002   \n",
              "2017-01-05 00:00:00-05:00  226.270004  226.580002  225.479996  226.399994   \n",
              "2017-01-06 00:00:00-05:00  226.529999  227.750000  225.899994  227.210007   \n",
              "2017-01-09 00:00:00-05:00  226.910004  227.070007  226.419998  226.460007   \n",
              "\n",
              "                                                      AAPL             \\\n",
              "                            Adj Close    Volume       Open       High   \n",
              "Date                                                                    \n",
              "2017-01-03 00:00:00-05:00  202.856537  91366500  28.950001  29.082500   \n",
              "2017-01-04 00:00:00-05:00  204.063354  78744400  28.962500  29.127501   \n",
              "2017-01-05 00:00:00-05:00  203.901260  78379000  28.980000  29.215000   \n",
              "2017-01-06 00:00:00-05:00  204.630768  71559900  29.195000  29.540001   \n",
              "2017-01-09 00:00:00-05:00  203.955292  46939700  29.487499  29.857500   \n",
              "\n",
              "                                                                       \n",
              "                                 Low      Close  Adj Close     Volume  \n",
              "Date                                                                   \n",
              "2017-01-03 00:00:00-05:00  28.690001  29.037500  27.174757  115127600  \n",
              "2017-01-04 00:00:00-05:00  28.937500  29.004999  27.144341   84472400  \n",
              "2017-01-05 00:00:00-05:00  28.952499  29.152500  27.282377   88774400  \n",
              "2017-01-06 00:00:00-05:00  29.117500  29.477501  27.586531  127007600  \n",
              "2017-01-09 00:00:00-05:00  29.485001  29.747499  27.839209  134247600  "
            ],
            "text/html": [
              "\n",
              "  <div id=\"df-02be4801-87e4-4f76-afc1-abfd51d10497\">\n",
              "    <div class=\"colab-df-container\">\n",
              "      <div>\n",
              "<style scoped>\n",
              "    .dataframe tbody tr th:only-of-type {\n",
              "        vertical-align: middle;\n",
              "    }\n",
              "\n",
              "    .dataframe tbody tr th {\n",
              "        vertical-align: top;\n",
              "    }\n",
              "\n",
              "    .dataframe thead tr th {\n",
              "        text-align: left;\n",
              "    }\n",
              "\n",
              "    .dataframe thead tr:last-of-type th {\n",
              "        text-align: right;\n",
              "    }\n",
              "</style>\n",
              "<table border=\"1\" class=\"dataframe\">\n",
              "  <thead>\n",
              "    <tr>\n",
              "      <th></th>\n",
              "      <th colspan=\"6\" halign=\"left\">SPY</th>\n",
              "      <th colspan=\"6\" halign=\"left\">AAPL</th>\n",
              "    </tr>\n",
              "    <tr>\n",
              "      <th></th>\n",
              "      <th>Open</th>\n",
              "      <th>High</th>\n",
              "      <th>Low</th>\n",
              "      <th>Close</th>\n",
              "      <th>Adj Close</th>\n",
              "      <th>Volume</th>\n",
              "      <th>Open</th>\n",
              "      <th>High</th>\n",
              "      <th>Low</th>\n",
              "      <th>Close</th>\n",
              "      <th>Adj Close</th>\n",
              "      <th>Volume</th>\n",
              "    </tr>\n",
              "    <tr>\n",
              "      <th>Date</th>\n",
              "      <th></th>\n",
              "      <th></th>\n",
              "      <th></th>\n",
              "      <th></th>\n",
              "      <th></th>\n",
              "      <th></th>\n",
              "      <th></th>\n",
              "      <th></th>\n",
              "      <th></th>\n",
              "      <th></th>\n",
              "      <th></th>\n",
              "      <th></th>\n",
              "    </tr>\n",
              "  </thead>\n",
              "  <tbody>\n",
              "    <tr>\n",
              "      <th>2017-01-03 00:00:00-05:00</th>\n",
              "      <td>225.039993</td>\n",
              "      <td>225.830002</td>\n",
              "      <td>223.880005</td>\n",
              "      <td>225.240005</td>\n",
              "      <td>202.856537</td>\n",
              "      <td>91366500</td>\n",
              "      <td>28.950001</td>\n",
              "      <td>29.082500</td>\n",
              "      <td>28.690001</td>\n",
              "      <td>29.037500</td>\n",
              "      <td>27.174757</td>\n",
              "      <td>115127600</td>\n",
              "    </tr>\n",
              "    <tr>\n",
              "      <th>2017-01-04 00:00:00-05:00</th>\n",
              "      <td>225.619995</td>\n",
              "      <td>226.750000</td>\n",
              "      <td>225.610001</td>\n",
              "      <td>226.580002</td>\n",
              "      <td>204.063354</td>\n",
              "      <td>78744400</td>\n",
              "      <td>28.962500</td>\n",
              "      <td>29.127501</td>\n",
              "      <td>28.937500</td>\n",
              "      <td>29.004999</td>\n",
              "      <td>27.144341</td>\n",
              "      <td>84472400</td>\n",
              "    </tr>\n",
              "    <tr>\n",
              "      <th>2017-01-05 00:00:00-05:00</th>\n",
              "      <td>226.270004</td>\n",
              "      <td>226.580002</td>\n",
              "      <td>225.479996</td>\n",
              "      <td>226.399994</td>\n",
              "      <td>203.901260</td>\n",
              "      <td>78379000</td>\n",
              "      <td>28.980000</td>\n",
              "      <td>29.215000</td>\n",
              "      <td>28.952499</td>\n",
              "      <td>29.152500</td>\n",
              "      <td>27.282377</td>\n",
              "      <td>88774400</td>\n",
              "    </tr>\n",
              "    <tr>\n",
              "      <th>2017-01-06 00:00:00-05:00</th>\n",
              "      <td>226.529999</td>\n",
              "      <td>227.750000</td>\n",
              "      <td>225.899994</td>\n",
              "      <td>227.210007</td>\n",
              "      <td>204.630768</td>\n",
              "      <td>71559900</td>\n",
              "      <td>29.195000</td>\n",
              "      <td>29.540001</td>\n",
              "      <td>29.117500</td>\n",
              "      <td>29.477501</td>\n",
              "      <td>27.586531</td>\n",
              "      <td>127007600</td>\n",
              "    </tr>\n",
              "    <tr>\n",
              "      <th>2017-01-09 00:00:00-05:00</th>\n",
              "      <td>226.910004</td>\n",
              "      <td>227.070007</td>\n",
              "      <td>226.419998</td>\n",
              "      <td>226.460007</td>\n",
              "      <td>203.955292</td>\n",
              "      <td>46939700</td>\n",
              "      <td>29.487499</td>\n",
              "      <td>29.857500</td>\n",
              "      <td>29.485001</td>\n",
              "      <td>29.747499</td>\n",
              "      <td>27.839209</td>\n",
              "      <td>134247600</td>\n",
              "    </tr>\n",
              "  </tbody>\n",
              "</table>\n",
              "</div>\n",
              "      <button class=\"colab-df-convert\" onclick=\"convertToInteractive('df-02be4801-87e4-4f76-afc1-abfd51d10497')\"\n",
              "              title=\"Convert this dataframe to an interactive table.\"\n",
              "              style=\"display:none;\">\n",
              "        \n",
              "  <svg xmlns=\"http://www.w3.org/2000/svg\" height=\"24px\"viewBox=\"0 0 24 24\"\n",
              "       width=\"24px\">\n",
              "    <path d=\"M0 0h24v24H0V0z\" fill=\"none\"/>\n",
              "    <path d=\"M18.56 5.44l.94 2.06.94-2.06 2.06-.94-2.06-.94-.94-2.06-.94 2.06-2.06.94zm-11 1L8.5 8.5l.94-2.06 2.06-.94-2.06-.94L8.5 2.5l-.94 2.06-2.06.94zm10 10l.94 2.06.94-2.06 2.06-.94-2.06-.94-.94-2.06-.94 2.06-2.06.94z\"/><path d=\"M17.41 7.96l-1.37-1.37c-.4-.4-.92-.59-1.43-.59-.52 0-1.04.2-1.43.59L10.3 9.45l-7.72 7.72c-.78.78-.78 2.05 0 2.83L4 21.41c.39.39.9.59 1.41.59.51 0 1.02-.2 1.41-.59l7.78-7.78 2.81-2.81c.8-.78.8-2.07 0-2.86zM5.41 20L4 18.59l7.72-7.72 1.47 1.35L5.41 20z\"/>\n",
              "  </svg>\n",
              "      </button>\n",
              "      \n",
              "  <style>\n",
              "    .colab-df-container {\n",
              "      display:flex;\n",
              "      flex-wrap:wrap;\n",
              "      gap: 12px;\n",
              "    }\n",
              "\n",
              "    .colab-df-convert {\n",
              "      background-color: #E8F0FE;\n",
              "      border: none;\n",
              "      border-radius: 50%;\n",
              "      cursor: pointer;\n",
              "      display: none;\n",
              "      fill: #1967D2;\n",
              "      height: 32px;\n",
              "      padding: 0 0 0 0;\n",
              "      width: 32px;\n",
              "    }\n",
              "\n",
              "    .colab-df-convert:hover {\n",
              "      background-color: #E2EBFA;\n",
              "      box-shadow: 0px 1px 2px rgba(60, 64, 67, 0.3), 0px 1px 3px 1px rgba(60, 64, 67, 0.15);\n",
              "      fill: #174EA6;\n",
              "    }\n",
              "\n",
              "    [theme=dark] .colab-df-convert {\n",
              "      background-color: #3B4455;\n",
              "      fill: #D2E3FC;\n",
              "    }\n",
              "\n",
              "    [theme=dark] .colab-df-convert:hover {\n",
              "      background-color: #434B5C;\n",
              "      box-shadow: 0px 1px 3px 1px rgba(0, 0, 0, 0.15);\n",
              "      filter: drop-shadow(0px 1px 2px rgba(0, 0, 0, 0.3));\n",
              "      fill: #FFFFFF;\n",
              "    }\n",
              "  </style>\n",
              "\n",
              "      <script>\n",
              "        const buttonEl =\n",
              "          document.querySelector('#df-02be4801-87e4-4f76-afc1-abfd51d10497 button.colab-df-convert');\n",
              "        buttonEl.style.display =\n",
              "          google.colab.kernel.accessAllowed ? 'block' : 'none';\n",
              "\n",
              "        async function convertToInteractive(key) {\n",
              "          const element = document.querySelector('#df-02be4801-87e4-4f76-afc1-abfd51d10497');\n",
              "          const dataTable =\n",
              "            await google.colab.kernel.invokeFunction('convertToInteractive',\n",
              "                                                     [key], {});\n",
              "          if (!dataTable) return;\n",
              "\n",
              "          const docLinkHtml = 'Like what you see? Visit the ' +\n",
              "            '<a target=\"_blank\" href=https://colab.research.google.com/notebooks/data_table.ipynb>data table notebook</a>'\n",
              "            + ' to learn more about interactive tables.';\n",
              "          element.innerHTML = '';\n",
              "          dataTable['output_type'] = 'display_data';\n",
              "          await google.colab.output.renderOutput(dataTable, element);\n",
              "          const docLink = document.createElement('div');\n",
              "          docLink.innerHTML = docLinkHtml;\n",
              "          element.appendChild(docLink);\n",
              "        }\n",
              "      </script>\n",
              "    </div>\n",
              "  </div>\n",
              "  "
            ]
          },
          "metadata": {},
          "execution_count": 19
        }
      ]
    },
    {
      "cell_type": "markdown",
      "source": [
        "# Portfolio Optimization using Python\n",
        "# https://www.youtube.com/watch?v=xagKMaTjxjk&t=2s\n",
        "\n",
        "See https://www.forecaster.site/investment/investment-blog/\n",
        "\n",
        "And https://github.com/paulsg3/PortfolioOptimization/blob/main/Portfolio_Optimization.ipynb\n",
        "\n",
        "https://raw.githubusercontent.com/paulsg3/PortfolioOptimization/main/Portfolio_Optimization.ipynb"
      ],
      "metadata": {
        "id": "wl_hPfK7pnvH"
      }
    },
    {
      "cell_type": "code",
      "source": [
        "'''This program attempts to optimize a users portfolio using the Efficient Frontier'''\n",
        "     "
      ],
      "metadata": {
        "colab": {
          "base_uri": "https://localhost:8080/",
          "height": 35
        },
        "id": "60UWTUJdjXzH",
        "outputId": "95c1d728-1d57-46cf-cddc-806c09cf8436"
      },
      "execution_count": 3,
      "outputs": [
        {
          "output_type": "execute_result",
          "data": {
            "text/plain": [
              "'This program attempts to optimize a users portfolio using the Efficient Frontier'"
            ],
            "application/vnd.google.colaboratory.intrinsic+json": {
              "type": "string"
            }
          },
          "metadata": {},
          "execution_count": 3
        }
      ]
    },
    {
      "cell_type": "code",
      "source": [
        "#Import the python libraries\n",
        "from pandas_datareader import data as web\n",
        "import pandas as pd\n",
        "import numpy as np\n",
        "from datetime import datetime\n",
        "import matplotlib.pyplot as plt\n",
        "plt.style.use('fivethirtyeight')\n",
        "\n",
        "# FROM https://aroussi.com/post/python-yahoo-finance >> Using pandas_datareader:\n",
        "\n",
        "import yfinance as yf\n",
        "yf.pdr_override() # <== that's all it takes :-)\n",
        "\n",
        "# download dataframe using pandas_datareader\n",
        "data = web.get_data_yahoo(\"SPY\", start=\"2017-01-01\", end=\"2017-04-30\")"
      ],
      "metadata": {
        "colab": {
          "base_uri": "https://localhost:8080/"
        },
        "id": "Jx7Nqkg7j4Bg",
        "outputId": "2d4916fc-bce4-49cf-add6-bd8ca05e2e46"
      },
      "execution_count": 4,
      "outputs": [
        {
          "output_type": "stream",
          "name": "stdout",
          "text": [
            "\r[*********************100%***********************]  1 of 1 completed\n"
          ]
        }
      ]
    },
    {
      "cell_type": "code",
      "source": [
        "#Get the stock tickers in the portfolio \n",
        "assets = ['AMD','NFLX','AAPL','GOOG']"
      ],
      "metadata": {
        "id": "KpGFSo4Zj8GO"
      },
      "execution_count": 5,
      "outputs": []
    },
    {
      "cell_type": "code",
      "source": [
        "#Assign weights to the stocks. \n",
        "weights = np.array([0.25,0.25,0.25,0.25])"
      ],
      "metadata": {
        "id": "ej4l9Ds6j_qI"
      },
      "execution_count": 6,
      "outputs": []
    },
    {
      "cell_type": "code",
      "source": [
        "# Get the stock/ portfolio starting date\n",
        "stockStartDate = '2015-01-01'"
      ],
      "metadata": {
        "id": "rR_UMMC1kBIh"
      },
      "execution_count": 7,
      "outputs": []
    },
    {
      "cell_type": "code",
      "source": [
        "# Get the stocks' ending date (today)\n",
        "today = datetime.today().strftime('%Y-%m-%d')\n",
        "today"
      ],
      "metadata": {
        "colab": {
          "base_uri": "https://localhost:8080/",
          "height": 35
        },
        "id": "8Dbmk3NykJuZ",
        "outputId": "657561eb-0ff2-4fbe-c640-5137c803605b"
      },
      "execution_count": 8,
      "outputs": [
        {
          "output_type": "execute_result",
          "data": {
            "text/plain": [
              "'2023-02-06'"
            ],
            "application/vnd.google.colaboratory.intrinsic+json": {
              "type": "string"
            }
          },
          "metadata": {},
          "execution_count": 8
        }
      ]
    },
    {
      "cell_type": "code",
      "source": [
        "# Create a dataframe to store the adjusted close price of the stocks\n",
        "df = pd.DataFrame()\n",
        "\n",
        "# Store the adjusted close price of the sock into the df\n",
        "for stock in assets:\n",
        "#  df[stock] = web.DataReader(stock,data_source='yahoo',start=stockStartDate,end=today)['Adj Close']\n",
        "# problem TypeError: download() got an unexpected keyword argument 'data_source'\n",
        "  df[stock] = web.get_data_yahoo(stock, start=stockStartDate,end=today)['Adj Close']"
      ],
      "metadata": {
        "colab": {
          "base_uri": "https://localhost:8080/"
        },
        "id": "AsMrSXKYkM-P",
        "outputId": "295a4078-b83c-4f0a-e720-930643d32b5f"
      },
      "execution_count": 9,
      "outputs": [
        {
          "output_type": "stream",
          "name": "stdout",
          "text": [
            "[*********************100%***********************]  1 of 1 completed\n",
            "[*********************100%***********************]  1 of 1 completed\n",
            "[*********************100%***********************]  1 of 1 completed\n",
            "[*********************100%***********************]  1 of 1 completed\n"
          ]
        }
      ]
    },
    {
      "cell_type": "markdown",
      "source": [
        "**The above must be corrected**\n",
        "\n",
        "Let's try : Download STOCK PRICES / OPTIONS / FUNDAMENTALS in Python using yfinance Ticker object\n",
        "\n",
        "https://www.youtube.com/watch?v=umD0Pa9arP0"
      ],
      "metadata": {
        "id": "8W1PXO9VNpVB"
      }
    },
    {
      "cell_type": "code",
      "source": [
        "# Visually show the stock/ portfolio\n",
        "title = 'Portfolio Adj. Close Price History'\n",
        "\n",
        "# Get the stocks\n",
        "my_stocks = df\n",
        "\n",
        "# Create and plot the graph\n",
        "for c in my_stocks.columns.values:\n",
        "  plt.plot(my_stocks[c],label=c)\n",
        "\n",
        "plt.title(title)\n",
        "plt.xlabel('Date',fontsize=18)\n",
        "plt.ylabel('Adj. Price USD ($)',fontsize=18)\n",
        "plt.legend(my_stocks.columns.values,loc='upper left')\n",
        "plt.show()"
      ],
      "metadata": {
        "colab": {
          "base_uri": "https://localhost:8080/",
          "height": 325
        },
        "id": "Ooid8xc0kbZe",
        "outputId": "483d9090-3130-4d5d-fc85-cf33b4b76fa8"
      },
      "execution_count": 10,
      "outputs": [
        {
          "output_type": "display_data",
          "data": {
            "text/plain": [
              "<Figure size 432x288 with 1 Axes>"
            ],
            "image/png": "[encoded data removed]"
          },
          "metadata": {}
        }
      ]
    },
    {
      "cell_type": "code",
      "source": [
        "# show the daily simple return\n",
        "returns = df.pct_change()\n",
        "returns"
      ],
      "metadata": {
        "colab": {
          "base_uri": "https://localhost:8080/",
          "height": 455
        },
        "id": "_Jg8Y0uAkcWw",
        "outputId": "048832ea-1319-4372-e290-582d76d4b63a"
      },
      "execution_count": 11,
      "outputs": [
        {
          "output_type": "execute_result",
          "data": {
            "text/plain": [
              "                                AMD      NFLX      AAPL      GOOG\n",
              "Date                                                             \n",
              "2015-01-02 00:00:00-05:00       NaN       NaN       NaN       NaN\n",
              "2015-01-05 00:00:00-05:00 -0.003745 -0.050897 -0.028172 -0.020846\n",
              "2015-01-06 00:00:00-05:00 -0.011278 -0.017121  0.000094 -0.023177\n",
              "2015-01-07 00:00:00-05:00 -0.019011  0.005192  0.014022 -0.001713\n",
              "2015-01-08 00:00:00-05:00  0.011628  0.022188  0.038423  0.003153\n",
              "...                             ...       ...       ...       ...\n",
              "2023-01-30 00:00:00-05:00 -0.039125 -0.021232 -0.020078 -0.027405\n",
              "2023-01-31 00:00:00-05:00  0.037267  0.002124  0.009021  0.019602\n",
              "2023-02-01 00:00:00-05:00  0.126281  0.022975  0.007901  0.015620\n",
              "2023-02-02 00:00:00-05:00  0.043360  0.013536  0.037063  0.072661\n",
              "2023-02-03 00:00:00-05:00 -0.025139 -0.002698  0.024400 -0.032904\n",
              "\n",
              "[2037 rows x 4 columns]"
            ],
            "text/html": [
              "\n",
              "  <div id=\"df-22fd0f5d-bba0-44e2-a1a8-63e53db04fd5\">\n",
              "    <div class=\"colab-df-container\">\n",
              "      <div>\n",
              "<style scoped>\n",
              "    .dataframe tbody tr th:only-of-type {\n",
              "        vertical-align: middle;\n",
              "    }\n",
              "\n",
              "    .dataframe tbody tr th {\n",
              "        vertical-align: top;\n",
              "    }\n",
              "\n",
              "    .dataframe thead th {\n",
              "        text-align: right;\n",
              "    }\n",
              "</style>\n",
              "<table border=\"1\" class=\"dataframe\">\n",
              "  <thead>\n",
              "    <tr style=\"text-align: right;\">\n",
              "      <th></th>\n",
              "      <th>AMD</th>\n",
              "      <th>NFLX</th>\n",
              "      <th>AAPL</th>\n",
              "      <th>GOOG</th>\n",
              "    </tr>\n",
              "    <tr>\n",
              "      <th>Date</th>\n",
              "      <th></th>\n",
              "      <th></th>\n",
              "      <th></th>\n",
              "      <th></th>\n",
              "    </tr>\n",
              "  </thead>\n",
              "  <tbody>\n",
              "    <tr>\n",
              "      <th>2015-01-02 00:00:00-05:00</th>\n",
              "      <td>NaN</td>\n",
              "      <td>NaN</td>\n",
              "      <td>NaN</td>\n",
              "      <td>NaN</td>\n",
              "    </tr>\n",
              "    <tr>\n",
              "      <th>2015-01-05 00:00:00-05:00</th>\n",
              "      <td>-0.003745</td>\n",
              "      <td>-0.050897</td>\n",
              "      <td>-0.028172</td>\n",
              "      <td>-0.020846</td>\n",
              "    </tr>\n",
              "    <tr>\n",
              "      <th>2015-01-06 00:00:00-05:00</th>\n",
              "      <td>-0.011278</td>\n",
              "      <td>-0.017121</td>\n",
              "      <td>0.000094</td>\n",
              "      <td>-0.023177</td>\n",
              "    </tr>\n",
              "    <tr>\n",
              "      <th>2015-01-07 00:00:00-05:00</th>\n",
              "      <td>-0.019011</td>\n",
              "      <td>0.005192</td>\n",
              "      <td>0.014022</td>\n",
              "      <td>-0.001713</td>\n",
              "    </tr>\n",
              "    <tr>\n",
              "      <th>2015-01-08 00:00:00-05:00</th>\n",
              "      <td>0.011628</td>\n",
              "      <td>0.022188</td>\n",
              "      <td>0.038423</td>\n",
              "      <td>0.003153</td>\n",
              "    </tr>\n",
              "    <tr>\n",
              "      <th>...</th>\n",
              "      <td>...</td>\n",
              "      <td>...</td>\n",
              "      <td>...</td>\n",
              "      <td>...</td>\n",
              "    </tr>\n",
              "    <tr>\n",
              "      <th>2023-01-30 00:00:00-05:00</th>\n",
              "      <td>-0.039125</td>\n",
              "      <td>-0.021232</td>\n",
              "      <td>-0.020078</td>\n",
              "      <td>-0.027405</td>\n",
              "    </tr>\n",
              "    <tr>\n",
              "      <th>2023-01-31 00:00:00-05:00</th>\n",
              "      <td>0.037267</td>\n",
              "      <td>0.002124</td>\n",
              "      <td>0.009021</td>\n",
              "      <td>0.019602</td>\n",
              "    </tr>\n",
              "    <tr>\n",
              "      <th>2023-02-01 00:00:00-05:00</th>\n",
              "      <td>0.126281</td>\n",
              "      <td>0.022975</td>\n",
              "      <td>0.007901</td>\n",
              "      <td>0.015620</td>\n",
              "    </tr>\n",
              "    <tr>\n",
              "      <th>2023-02-02 00:00:00-05:00</th>\n",
              "      <td>0.043360</td>\n",
              "      <td>0.013536</td>\n",
              "      <td>0.037063</td>\n",
              "      <td>0.072661</td>\n",
              "    </tr>\n",
              "    <tr>\n",
              "      <th>2023-02-03 00:00:00-05:00</th>\n",
              "      <td>-0.025139</td>\n",
              "      <td>-0.002698</td>\n",
              "      <td>0.024400</td>\n",
              "      <td>-0.032904</td>\n",
              "    </tr>\n",
              "  </tbody>\n",
              "</table>\n",
              "<p>2037 rows × 4 columns</p>\n",
              "</div>\n",
              "      <button class=\"colab-df-convert\" onclick=\"convertToInteractive('df-22fd0f5d-bba0-44e2-a1a8-63e53db04fd5')\"\n",
              "              title=\"Convert this dataframe to an interactive table.\"\n",
              "              style=\"display:none;\">\n",
              "        \n",
              "  <svg xmlns=\"http://www.w3.org/2000/svg\" height=\"24px\"viewBox=\"0 0 24 24\"\n",
              "       width=\"24px\">\n",
              "    <path d=\"M0 0h24v24H0V0z\" fill=\"none\"/>\n",
              "    <path d=\"M18.56 5.44l.94 2.06.94-2.06 2.06-.94-2.06-.94-.94-2.06-.94 2.06-2.06.94zm-11 1L8.5 8.5l.94-2.06 2.06-.94-2.06-.94L8.5 2.5l-.94 2.06-2.06.94zm10 10l.94 2.06.94-2.06 2.06-.94-2.06-.94-.94-2.06-.94 2.06-2.06.94z\"/><path d=\"M17.41 7.96l-1.37-1.37c-.4-.4-.92-.59-1.43-.59-.52 0-1.04.2-1.43.59L10.3 9.45l-7.72 7.72c-.78.78-.78 2.05 0 2.83L4 21.41c.39.39.9.59 1.41.59.51 0 1.02-.2 1.41-.59l7.78-7.78 2.81-2.81c.8-.78.8-2.07 0-2.86zM5.41 20L4 18.59l7.72-7.72 1.47 1.35L5.41 20z\"/>\n",
              "  </svg>\n",
              "      </button>\n",
              "      \n",
              "  <style>\n",
              "    .colab-df-container {\n",
              "      display:flex;\n",
              "      flex-wrap:wrap;\n",
              "      gap: 12px;\n",
              "    }\n",
              "\n",
              "    .colab-df-convert {\n",
              "      background-color: #E8F0FE;\n",
              "      border: none;\n",
              "      border-radius: 50%;\n",
              "      cursor: pointer;\n",
              "      display: none;\n",
              "      fill: #1967D2;\n",
              "      height: 32px;\n",
              "      padding: 0 0 0 0;\n",
              "      width: 32px;\n",
              "    }\n",
              "\n",
              "    .colab-df-convert:hover {\n",
              "      background-color: #E2EBFA;\n",
              "      box-shadow: 0px 1px 2px rgba(60, 64, 67, 0.3), 0px 1px 3px 1px rgba(60, 64, 67, 0.15);\n",
              "      fill: #174EA6;\n",
              "    }\n",
              "\n",
              "    [theme=dark] .colab-df-convert {\n",
              "      background-color: #3B4455;\n",
              "      fill: #D2E3FC;\n",
              "    }\n",
              "\n",
              "    [theme=dark] .colab-df-convert:hover {\n",
              "      background-color: #434B5C;\n",
              "      box-shadow: 0px 1px 3px 1px rgba(0, 0, 0, 0.15);\n",
              "      filter: drop-shadow(0px 1px 2px rgba(0, 0, 0, 0.3));\n",
              "      fill: #FFFFFF;\n",
              "    }\n",
              "  </style>\n",
              "\n",
              "      <script>\n",
              "        const buttonEl =\n",
              "          document.querySelector('#df-22fd0f5d-bba0-44e2-a1a8-63e53db04fd5 button.colab-df-convert');\n",
              "        buttonEl.style.display =\n",
              "          google.colab.kernel.accessAllowed ? 'block' : 'none';\n",
              "\n",
              "        async function convertToInteractive(key) {\n",
              "          const element = document.querySelector('#df-22fd0f5d-bba0-44e2-a1a8-63e53db04fd5');\n",
              "          const dataTable =\n",
              "            await google.colab.kernel.invokeFunction('convertToInteractive',\n",
              "                                                     [key], {});\n",
              "          if (!dataTable) return;\n",
              "\n",
              "          const docLinkHtml = 'Like what you see? Visit the ' +\n",
              "            '<a target=\"_blank\" href=https://colab.research.google.com/notebooks/data_table.ipynb>data table notebook</a>'\n",
              "            + ' to learn more about interactive tables.';\n",
              "          element.innerHTML = '';\n",
              "          dataTable['output_type'] = 'display_data';\n",
              "          await google.colab.output.renderOutput(dataTable, element);\n",
              "          const docLink = document.createElement('div');\n",
              "          docLink.innerHTML = docLinkHtml;\n",
              "          element.appendChild(docLink);\n",
              "        }\n",
              "      </script>\n",
              "    </div>\n",
              "  </div>\n",
              "  "
            ]
          },
          "metadata": {},
          "execution_count": 11
        }
      ]
    },
    {
      "cell_type": "code",
      "source": [
        "# Create and show the annualized covariance matrix\n",
        "cov_matrix_annual = returns.cov()*252\n",
        "cov_matrix_annual"
      ],
      "metadata": {
        "colab": {
          "base_uri": "https://localhost:8080/",
          "height": 175
        },
        "id": "qN2w8ESekgW3",
        "outputId": "a1a20bbb-12c5-48c8-c2e6-2a6ca19ebbbe"
      },
      "execution_count": 12,
      "outputs": [
        {
          "output_type": "execute_result",
          "data": {
            "text/plain": [
              "           AMD      NFLX      AAPL      GOOG\n",
              "AMD   0.374209  0.093718  0.078759  0.066957\n",
              "NFLX  0.093718  0.209000  0.058500  0.062724\n",
              "AAPL  0.078759  0.058500  0.089577  0.054168\n",
              "GOOG  0.066957  0.062724  0.054168  0.081371"
            ],
            "text/html": [
              "\n",
              "  <div id=\"df-7692ba34-c09d-4dd2-81f3-1593e716003b\">\n",
              "    <div class=\"colab-df-container\">\n",
              "      <div>\n",
              "<style scoped>\n",
              "    .dataframe tbody tr th:only-of-type {\n",
              "        vertical-align: middle;\n",
              "    }\n",
              "\n",
              "    .dataframe tbody tr th {\n",
              "        vertical-align: top;\n",
              "    }\n",
              "\n",
              "    .dataframe thead th {\n",
              "        text-align: right;\n",
              "    }\n",
              "</style>\n",
              "<table border=\"1\" class=\"dataframe\">\n",
              "  <thead>\n",
              "    <tr style=\"text-align: right;\">\n",
              "      <th></th>\n",
              "      <th>AMD</th>\n",
              "      <th>NFLX</th>\n",
              "      <th>AAPL</th>\n",
              "      <th>GOOG</th>\n",
              "    </tr>\n",
              "  </thead>\n",
              "  <tbody>\n",
              "    <tr>\n",
              "      <th>AMD</th>\n",
              "      <td>0.374209</td>\n",
              "      <td>0.093718</td>\n",
              "      <td>0.078759</td>\n",
              "      <td>0.066957</td>\n",
              "    </tr>\n",
              "    <tr>\n",
              "      <th>NFLX</th>\n",
              "      <td>0.093718</td>\n",
              "      <td>0.209000</td>\n",
              "      <td>0.058500</td>\n",
              "      <td>0.062724</td>\n",
              "    </tr>\n",
              "    <tr>\n",
              "      <th>AAPL</th>\n",
              "      <td>0.078759</td>\n",
              "      <td>0.058500</td>\n",
              "      <td>0.089577</td>\n",
              "      <td>0.054168</td>\n",
              "    </tr>\n",
              "    <tr>\n",
              "      <th>GOOG</th>\n",
              "      <td>0.066957</td>\n",
              "      <td>0.062724</td>\n",
              "      <td>0.054168</td>\n",
              "      <td>0.081371</td>\n",
              "    </tr>\n",
              "  </tbody>\n",
              "</table>\n",
              "</div>\n",
              "      <button class=\"colab-df-convert\" onclick=\"convertToInteractive('df-7692ba34-c09d-4dd2-81f3-1593e716003b')\"\n",
              "              title=\"Convert this dataframe to an interactive table.\"\n",
              "              style=\"display:none;\">\n",
              "        \n",
              "  <svg xmlns=\"http://www.w3.org/2000/svg\" height=\"24px\"viewBox=\"0 0 24 24\"\n",
              "       width=\"24px\">\n",
              "    <path d=\"M0 0h24v24H0V0z\" fill=\"none\"/>\n",
              "    <path d=\"M18.56 5.44l.94 2.06.94-2.06 2.06-.94-2.06-.94-.94-2.06-.94 2.06-2.06.94zm-11 1L8.5 8.5l.94-2.06 2.06-.94-2.06-.94L8.5 2.5l-.94 2.06-2.06.94zm10 10l.94 2.06.94-2.06 2.06-.94-2.06-.94-.94-2.06-.94 2.06-2.06.94z\"/><path d=\"M17.41 7.96l-1.37-1.37c-.4-.4-.92-.59-1.43-.59-.52 0-1.04.2-1.43.59L10.3 9.45l-7.72 7.72c-.78.78-.78 2.05 0 2.83L4 21.41c.39.39.9.59 1.41.59.51 0 1.02-.2 1.41-.59l7.78-7.78 2.81-2.81c.8-.78.8-2.07 0-2.86zM5.41 20L4 18.59l7.72-7.72 1.47 1.35L5.41 20z\"/>\n",
              "  </svg>\n",
              "      </button>\n",
              "      \n",
              "  <style>\n",
              "    .colab-df-container {\n",
              "      display:flex;\n",
              "      flex-wrap:wrap;\n",
              "      gap: 12px;\n",
              "    }\n",
              "\n",
              "    .colab-df-convert {\n",
              "      background-color: #E8F0FE;\n",
              "      border: none;\n",
              "      border-radius: 50%;\n",
              "      cursor: pointer;\n",
              "      display: none;\n",
              "      fill: #1967D2;\n",
              "      height: 32px;\n",
              "      padding: 0 0 0 0;\n",
              "      width: 32px;\n",
              "    }\n",
              "\n",
              "    .colab-df-convert:hover {\n",
              "      background-color: #E2EBFA;\n",
              "      box-shadow: 0px 1px 2px rgba(60, 64, 67, 0.3), 0px 1px 3px 1px rgba(60, 64, 67, 0.15);\n",
              "      fill: #174EA6;\n",
              "    }\n",
              "\n",
              "    [theme=dark] .colab-df-convert {\n",
              "      background-color: #3B4455;\n",
              "      fill: #D2E3FC;\n",
              "    }\n",
              "\n",
              "    [theme=dark] .colab-df-convert:hover {\n",
              "      background-color: #434B5C;\n",
              "      box-shadow: 0px 1px 3px 1px rgba(0, 0, 0, 0.15);\n",
              "      filter: drop-shadow(0px 1px 2px rgba(0, 0, 0, 0.3));\n",
              "      fill: #FFFFFF;\n",
              "    }\n",
              "  </style>\n",
              "\n",
              "      <script>\n",
              "        const buttonEl =\n",
              "          document.querySelector('#df-7692ba34-c09d-4dd2-81f3-1593e716003b button.colab-df-convert');\n",
              "        buttonEl.style.display =\n",
              "          google.colab.kernel.accessAllowed ? 'block' : 'none';\n",
              "\n",
              "        async function convertToInteractive(key) {\n",
              "          const element = document.querySelector('#df-7692ba34-c09d-4dd2-81f3-1593e716003b');\n",
              "          const dataTable =\n",
              "            await google.colab.kernel.invokeFunction('convertToInteractive',\n",
              "                                                     [key], {});\n",
              "          if (!dataTable) return;\n",
              "\n",
              "          const docLinkHtml = 'Like what you see? Visit the ' +\n",
              "            '<a target=\"_blank\" href=https://colab.research.google.com/notebooks/data_table.ipynb>data table notebook</a>'\n",
              "            + ' to learn more about interactive tables.';\n",
              "          element.innerHTML = '';\n",
              "          dataTable['output_type'] = 'display_data';\n",
              "          await google.colab.output.renderOutput(dataTable, element);\n",
              "          const docLink = document.createElement('div');\n",
              "          docLink.innerHTML = docLinkHtml;\n",
              "          element.appendChild(docLink);\n",
              "        }\n",
              "      </script>\n",
              "    </div>\n",
              "  </div>\n",
              "  "
            ]
          },
          "metadata": {},
          "execution_count": 12
        }
      ]
    },
    {
      "cell_type": "code",
      "source": [
        "# Calculate the portfolio variance\n",
        "port_variance = np.dot(weights.T,np.dot(cov_matrix_annual,weights))\n",
        "port_variance"
      ],
      "metadata": {
        "colab": {
          "base_uri": "https://localhost:8080/"
        },
        "id": "L7LB9_FhkiUx",
        "outputId": "c1acde7a-6679-494f-a28b-2420961e8fc0"
      },
      "execution_count": 13,
      "outputs": [
        {
          "output_type": "execute_result",
          "data": {
            "text/plain": [
              "0.09898805047789724"
            ]
          },
          "metadata": {},
          "execution_count": 13
        }
      ]
    },
    {
      "cell_type": "code",
      "source": [
        "# Calculate the portfolio volatility aka standard deviation\n",
        "port_volatility = np.sqrt(port_variance)\n",
        "port_volatility"
      ],
      "metadata": {
        "colab": {
          "base_uri": "https://localhost:8080/"
        },
        "id": "X_BFuLKNkk9o",
        "outputId": "37bd33bf-e1b6-467f-a959-0dcdfe7201af"
      },
      "execution_count": 14,
      "outputs": [
        {
          "output_type": "execute_result",
          "data": {
            "text/plain": [
              "0.31462366484086546"
            ]
          },
          "metadata": {},
          "execution_count": 14
        }
      ]
    },
    {
      "cell_type": "code",
      "source": [
        "# Calculate the annual portfolio return\n",
        "portfolio_simple_annual_return = np.sum(returns.mean()*weights)*252\n",
        "portfolio_simple_annual_return"
      ],
      "metadata": {
        "colab": {
          "base_uri": "https://localhost:8080/"
        },
        "id": "fbUA_T7ikm2b",
        "outputId": "6e5806f3-fc26-4bbf-9631-de9db0b9c77d"
      },
      "execution_count": 15,
      "outputs": [
        {
          "output_type": "execute_result",
          "data": {
            "text/plain": [
              "0.36269688164102976"
            ]
          },
          "metadata": {},
          "execution_count": 15
        }
      ]
    },
    {
      "cell_type": "code",
      "source": [
        "# Sow the expected annual return, volatility (risk), and variance\n",
        "percent_var = str(round(port_variance,2)*100)+'%'\n",
        "percent_vola = str(round(port_volatility,2)*100)+'%'\n",
        "percent_ret = str(round(portfolio_simple_annual_return,2)*100)+'%'\n",
        "\n",
        "print('Expected annual return: '+percent_ret)\n",
        "print('Annual volatility/ risk: '+percent_vola)\n",
        "print('Annual variance: '+percent_var)"
      ],
      "metadata": {
        "colab": {
          "base_uri": "https://localhost:8080/"
        },
        "id": "VH8iJSM5kndf",
        "outputId": "cc57cb34-3c0c-4305-cfb3-65dfd15c6a83"
      },
      "execution_count": 16,
      "outputs": [
        {
          "output_type": "stream",
          "name": "stdout",
          "text": [
            "Expected annual return: 36.0%\n",
            "Annual volatility/ risk: 31.0%\n",
            "Annual variance: 10.0%\n"
          ]
        }
      ]
    },
    {
      "cell_type": "code",
      "source": [
        "pip install PyPortfolioOpt"
      ],
      "metadata": {
        "colab": {
          "base_uri": "https://localhost:8080/"
        },
        "id": "mvkxFxgjkp7g",
        "outputId": "8bd83aa4-eb0e-44a4-ee53-00602cbcf6dc"
      },
      "execution_count": 21,
      "outputs": [
        {
          "output_type": "stream",
          "name": "stdout",
          "text": [
            "Looking in indexes: https://pypi.org/simple, https://us-python.pkg.dev/colab-wheels/public/simple/\n",
            "Requirement already satisfied: PyPortfolioOpt in /usr/local/lib/python3.8/dist-packages (1.5.4)\n",
            "Requirement already satisfied: cvxpy<2.0.0,>=1.1.10 in /usr/local/lib/python3.8/dist-packages (from PyPortfolioOpt) (1.2.3)\n",
            "Requirement already satisfied: numpy<2.0.0,>=1.22.4 in /usr/local/lib/python3.8/dist-packages (from PyPortfolioOpt) (1.22.4)\n",
            "Requirement already satisfied: pandas>=0.19 in /usr/local/lib/python3.8/dist-packages (from PyPortfolioOpt) (1.3.5)\n",
            "Requirement already satisfied: scipy<2.0,>=1.3 in /usr/local/lib/python3.8/dist-packages (from PyPortfolioOpt) (1.7.3)\n",
            "Requirement already satisfied: osqp>=0.4.1 in /usr/local/lib/python3.8/dist-packages (from cvxpy<2.0.0,>=1.1.10->PyPortfolioOpt) (0.6.2.post0)\n",
            "Requirement already satisfied: scs>=1.1.6 in /usr/local/lib/python3.8/dist-packages (from cvxpy<2.0.0,>=1.1.10->PyPortfolioOpt) (3.2.2)\n",
            "Requirement already satisfied: ecos>=2 in /usr/local/lib/python3.8/dist-packages (from cvxpy<2.0.0,>=1.1.10->PyPortfolioOpt) (2.0.12)\n",
            "Requirement already satisfied: setuptools<=64.0.2 in /usr/local/lib/python3.8/dist-packages (from cvxpy<2.0.0,>=1.1.10->PyPortfolioOpt) (57.4.0)\n",
            "Requirement already satisfied: python-dateutil>=2.7.3 in /usr/local/lib/python3.8/dist-packages (from pandas>=0.19->PyPortfolioOpt) (2.8.2)\n",
            "Requirement already satisfied: pytz>=2017.3 in /usr/local/lib/python3.8/dist-packages (from pandas>=0.19->PyPortfolioOpt) (2022.7.1)\n",
            "Requirement already satisfied: qdldl in /usr/local/lib/python3.8/dist-packages (from osqp>=0.4.1->cvxpy<2.0.0,>=1.1.10->PyPortfolioOpt) (0.1.5.post3)\n",
            "Requirement already satisfied: six>=1.5 in /usr/local/lib/python3.8/dist-packages (from python-dateutil>=2.7.3->pandas>=0.19->PyPortfolioOpt) (1.15.0)\n"
          ]
        }
      ]
    },
    {
      "cell_type": "code",
      "source": [
        "from pypfopt.efficient_frontier import EfficientFrontier\n",
        "from pypfopt import risk_models\n",
        "from pypfopt import expected_returns\n",
        "from pypfopt import plotting"
      ],
      "metadata": {
        "id": "sZF585oIkr-Z"
      },
      "execution_count": 22,
      "outputs": []
    },
    {
      "cell_type": "code",
      "source": [
        "# Portfolio Optimization\n",
        "\n",
        "# Calculate the expected returns and the annualized sample covariance matrix of asset returns\n",
        "mu = expected_returns.mean_historical_return(df)\n",
        "S = risk_models.sample_cov(df)\n",
        "\n",
        "# Optimize for maximum sharpe ratio\n",
        "ef = EfficientFrontier(mu,S,weight_bounds=(None,None))\n",
        "ef.add_constraint(lambda w: w[0]+w[1]+w[2]+w[3] == 1)\n",
        "weights = ef.max_sharpe()\n",
        "cleaned_weights = ef.clean_weights() \n",
        "print(cleaned_weights)\n",
        "ef.portfolio_performance(verbose=True)"
      ],
      "metadata": {
        "colab": {
          "base_uri": "https://localhost:8080/"
        },
        "id": "vqpHt7NkkuOm",
        "outputId": "b2b7deda-28ae-48f1-a3d3-58876e239f49"
      },
      "execution_count": 23,
      "outputs": [
        {
          "output_type": "stream",
          "name": "stdout",
          "text": [
            "OrderedDict([('AMD', 0.3395), ('NFLX', 0.13847), ('AAPL', 0.54988), ('GOOG', -0.02785)])\n",
            "Expected annual return: 35.6%\n",
            "Annual volatility: 34.4%\n",
            "Sharpe Ratio: 0.98\n"
          ]
        },
        {
          "output_type": "execute_result",
          "data": {
            "text/plain": [
              "(0.3562666957871763, 0.3435167160941478, 0.9788947088531653)"
            ]
          },
          "metadata": {},
          "execution_count": 23
        }
      ]
    },
    {
      "cell_type": "code",
      "source": [
        "# Get the discrete allocation of each share per stock\n",
        "from pypfopt.discrete_allocation import DiscreteAllocation, get_latest_prices\n",
        "\n",
        "latest_prices = get_latest_prices(df)\n",
        "weights = cleaned_weights\n",
        "da = DiscreteAllocation(weights,latest_prices,total_portfolio_value = 50000)\n",
        "\n",
        "allocation,leftover = da.lp_portfolio()\n",
        "print('Discrete allocation: ',allocation)\n",
        "print('Funds remaining: ${:.2f}'.format(leftover))"
      ],
      "metadata": {
        "colab": {
          "base_uri": "https://localhost:8080/"
        },
        "id": "a6b7uiqXkwfL",
        "outputId": "57282e3c-9774-41c3-806a-429c10b5f12c"
      },
      "execution_count": 24,
      "outputs": [
        {
          "output_type": "stream",
          "name": "stdout",
          "text": [
            "Discrete allocation:  {'AMD': 192, 'NFLX': 18, 'AAPL': 173, 'GOOG': -13}\n",
            "Funds remaining: $180.66\n"
          ]
        }
      ]
    },
    {
      "cell_type": "code",
      "source": [
        "# Portfolio Optimization\n",
        "\n",
        "# Calculate the expected returns and the annualized sample covariance matrix of asset returns\n",
        "mu = expected_returns.mean_historical_return(df)\n",
        "S = risk_models.sample_cov(df)\n",
        "\n",
        "# Optimize for maximum sharpe ratio\n",
        "ef = EfficientFrontier(mu,S,weight_bounds=(None,None))\n",
        "ef.add_constraint(lambda w: w[0]+w[1]+w[2]+w[3] == 1)\n",
        "plotting.plot_efficient_frontier(ef)\n",
        "weights = ef.max_sharpe()\n",
        "cleaned_weights = ef.clean_weights() \n",
        "print(cleaned_weights)\n",
        "ef.portfolio_performance(verbose=True)"
      ],
      "metadata": {
        "colab": {
          "base_uri": "https://localhost:8080/",
          "height": 652
        },
        "id": "G41BolxCk1B2",
        "outputId": "286e4762-e5a9-4b59-9c8d-05235a5f7c1b"
      },
      "execution_count": 25,
      "outputs": [
        {
          "output_type": "error",
          "ename": "InstantiationError",
          "evalue": "ignored",
          "traceback": [
            "\u001b[0;31m---------------------------------------------------------------------------\u001b[0m",
            "\u001b[0;31mInstantiationError\u001b[0m                        Traceback (most recent call last)",
            "\u001b[0;32m<ipython-input-25-a74d0e5bf9a5>\u001b[0m in \u001b[0;36m<module>\u001b[0;34m\u001b[0m\n\u001b[1;32m      9\u001b[0m \u001b[0mef\u001b[0m\u001b[0;34m.\u001b[0m\u001b[0madd_constraint\u001b[0m\u001b[0;34m(\u001b[0m\u001b[0;32mlambda\u001b[0m \u001b[0mw\u001b[0m\u001b[0;34m:\u001b[0m \u001b[0mw\u001b[0m\u001b[0;34m[\u001b[0m\u001b[0;36m0\u001b[0m\u001b[0;34m]\u001b[0m\u001b[0;34m+\u001b[0m\u001b[0mw\u001b[0m\u001b[0;34m[\u001b[0m\u001b[0;36m1\u001b[0m\u001b[0;34m]\u001b[0m\u001b[0;34m+\u001b[0m\u001b[0mw\u001b[0m\u001b[0;34m[\u001b[0m\u001b[0;36m2\u001b[0m\u001b[0;34m]\u001b[0m\u001b[0;34m+\u001b[0m\u001b[0mw\u001b[0m\u001b[0;34m[\u001b[0m\u001b[0;36m3\u001b[0m\u001b[0;34m]\u001b[0m \u001b[0;34m==\u001b[0m \u001b[0;36m1\u001b[0m\u001b[0;34m)\u001b[0m\u001b[0;34m\u001b[0m\u001b[0;34m\u001b[0m\u001b[0m\n\u001b[1;32m     10\u001b[0m \u001b[0mplotting\u001b[0m\u001b[0;34m.\u001b[0m\u001b[0mplot_efficient_frontier\u001b[0m\u001b[0;34m(\u001b[0m\u001b[0mef\u001b[0m\u001b[0;34m)\u001b[0m\u001b[0;34m\u001b[0m\u001b[0;34m\u001b[0m\u001b[0m\n\u001b[0;32m---> 11\u001b[0;31m \u001b[0mweights\u001b[0m \u001b[0;34m=\u001b[0m \u001b[0mef\u001b[0m\u001b[0;34m.\u001b[0m\u001b[0mmax_sharpe\u001b[0m\u001b[0;34m(\u001b[0m\u001b[0;34m)\u001b[0m\u001b[0;34m\u001b[0m\u001b[0;34m\u001b[0m\u001b[0m\n\u001b[0m\u001b[1;32m     12\u001b[0m \u001b[0mcleaned_weights\u001b[0m \u001b[0;34m=\u001b[0m \u001b[0mef\u001b[0m\u001b[0;34m.\u001b[0m\u001b[0mclean_weights\u001b[0m\u001b[0;34m(\u001b[0m\u001b[0;34m)\u001b[0m\u001b[0;34m\u001b[0m\u001b[0;34m\u001b[0m\u001b[0m\n\u001b[1;32m     13\u001b[0m \u001b[0mprint\u001b[0m\u001b[0;34m(\u001b[0m\u001b[0mcleaned_weights\u001b[0m\u001b[0;34m)\u001b[0m\u001b[0;34m\u001b[0m\u001b[0;34m\u001b[0m\u001b[0m\n",
            "\u001b[0;32m/usr/local/lib/python3.8/dist-packages/pypfopt/efficient_frontier/efficient_frontier.py\u001b[0m in \u001b[0;36mmax_sharpe\u001b[0;34m(self, risk_free_rate)\u001b[0m\n\u001b[1;32m    291\u001b[0m         ] + new_constraints\n\u001b[1;32m    292\u001b[0m \u001b[0;34m\u001b[0m\u001b[0m\n\u001b[0;32m--> 293\u001b[0;31m         \u001b[0mself\u001b[0m\u001b[0;34m.\u001b[0m\u001b[0m_solve_cvxpy_opt_problem\u001b[0m\u001b[0;34m(\u001b[0m\u001b[0;34m)\u001b[0m\u001b[0;34m\u001b[0m\u001b[0;34m\u001b[0m\u001b[0m\n\u001b[0m\u001b[1;32m    294\u001b[0m         \u001b[0;31m# Inverse-transform\u001b[0m\u001b[0;34m\u001b[0m\u001b[0;34m\u001b[0m\u001b[0;34m\u001b[0m\u001b[0m\n\u001b[1;32m    295\u001b[0m         \u001b[0mself\u001b[0m\u001b[0;34m.\u001b[0m\u001b[0mweights\u001b[0m \u001b[0;34m=\u001b[0m \u001b[0;34m(\u001b[0m\u001b[0mself\u001b[0m\u001b[0;34m.\u001b[0m\u001b[0m_w\u001b[0m\u001b[0;34m.\u001b[0m\u001b[0mvalue\u001b[0m \u001b[0;34m/\u001b[0m \u001b[0mk\u001b[0m\u001b[0;34m.\u001b[0m\u001b[0mvalue\u001b[0m\u001b[0;34m)\u001b[0m\u001b[0;34m.\u001b[0m\u001b[0mround\u001b[0m\u001b[0;34m(\u001b[0m\u001b[0;36m16\u001b[0m\u001b[0;34m)\u001b[0m \u001b[0;34m+\u001b[0m \u001b[0;36m0.0\u001b[0m\u001b[0;34m\u001b[0m\u001b[0;34m\u001b[0m\u001b[0m\n",
            "\u001b[0;32m/usr/local/lib/python3.8/dist-packages/pypfopt/base_optimizer.py\u001b[0m in \u001b[0;36m_solve_cvxpy_opt_problem\u001b[0;34m(self)\u001b[0m\n\u001b[1;32m    294\u001b[0m             \u001b[0;32melse\u001b[0m\u001b[0;34m:\u001b[0m\u001b[0;34m\u001b[0m\u001b[0;34m\u001b[0m\u001b[0m\n\u001b[1;32m    295\u001b[0m                 \u001b[0;32mif\u001b[0m \u001b[0;32mnot\u001b[0m \u001b[0mself\u001b[0m\u001b[0;34m.\u001b[0m\u001b[0m_objective\u001b[0m\u001b[0;34m.\u001b[0m\u001b[0mid\u001b[0m \u001b[0;34m==\u001b[0m \u001b[0mself\u001b[0m\u001b[0;34m.\u001b[0m\u001b[0m_initial_objective\u001b[0m\u001b[0;34m:\u001b[0m\u001b[0;34m\u001b[0m\u001b[0;34m\u001b[0m\u001b[0m\n\u001b[0;32m--> 296\u001b[0;31m                     raise exceptions.InstantiationError(\n\u001b[0m\u001b[1;32m    297\u001b[0m                         \u001b[0;34m\"The objective function was changed after the initial optimization. \"\u001b[0m\u001b[0;34m\u001b[0m\u001b[0;34m\u001b[0m\u001b[0m\n\u001b[1;32m    298\u001b[0m                         \u001b[0;34m\"Please create a new instance instead.\"\u001b[0m\u001b[0;34m\u001b[0m\u001b[0;34m\u001b[0m\u001b[0m\n",
            "\u001b[0;31mInstantiationError\u001b[0m: The objective function was changed after the initial optimization. Please create a new instance instead."
          ]
        },
        {
          "output_type": "display_data",
          "data": {
            "text/plain": [
              "<Figure size 432x288 with 1 Axes>"
            ],
            "image/png": "[encoded data removed]"
          },
          "metadata": {}
        }
      ]
    },
    {
      "cell_type": "code",
      "source": [
        "# Portfolio Optimization\n",
        "\n",
        "# Calculate the expected returns and the annualized sample covariance matrix of asset returns\n",
        "mu = expected_returns.mean_historical_return(df)\n",
        "S = risk_models.sample_cov(df)\n",
        "\n",
        "# Optimize for maximum sharpe ratio\n",
        "ef = EfficientFrontier(mu,S,weight_bounds=(None,None))\n",
        "ef.add_constraint(lambda w: w[0]+w[1]+w[2]+w[3] == 1)\n",
        "# 100 portfolios with risks between 0.10 and 0.30\n",
        "risk_range = np.linspace(0.30, 0.80, 1000)\n",
        "plotting.plot_efficient_frontier(ef, ef_param=\"risk\", ef_param_range=risk_range,show_assets=True, showfig=True)\n",
        "weights = ef.max_sharpe()\n",
        "cleaned_weights = ef.clean_weights() \n",
        "print(cleaned_weights)\n",
        "ef.portfolio_performance(verbose=True)"
      ],
      "metadata": {
        "colab": {
          "base_uri": "https://localhost:8080/",
          "height": 652
        },
        "id": "WdfzTnN0k2Wr",
        "outputId": "5afeca37-97c6-4f57-c4c1-5c2b6d1996cf"
      },
      "execution_count": 26,
      "outputs": [
        {
          "output_type": "display_data",
          "data": {
            "text/plain": [
              "<Figure size 432x288 with 1 Axes>"
            ],
            "image/png": "[encoded data removed]"
          },
          "metadata": {}
        },
        {
          "output_type": "error",
          "ename": "InstantiationError",
          "evalue": "ignored",
          "traceback": [
            "\u001b[0;31m---------------------------------------------------------------------------\u001b[0m",
            "\u001b[0;31mInstantiationError\u001b[0m                        Traceback (most recent call last)",
            "\u001b[0;32m<ipython-input-26-90773b14ab5e>\u001b[0m in \u001b[0;36m<module>\u001b[0;34m\u001b[0m\n\u001b[1;32m     11\u001b[0m \u001b[0mrisk_range\u001b[0m \u001b[0;34m=\u001b[0m \u001b[0mnp\u001b[0m\u001b[0;34m.\u001b[0m\u001b[0mlinspace\u001b[0m\u001b[0;34m(\u001b[0m\u001b[0;36m0.30\u001b[0m\u001b[0;34m,\u001b[0m \u001b[0;36m0.80\u001b[0m\u001b[0;34m,\u001b[0m \u001b[0;36m1000\u001b[0m\u001b[0;34m)\u001b[0m\u001b[0;34m\u001b[0m\u001b[0;34m\u001b[0m\u001b[0m\n\u001b[1;32m     12\u001b[0m \u001b[0mplotting\u001b[0m\u001b[0;34m.\u001b[0m\u001b[0mplot_efficient_frontier\u001b[0m\u001b[0;34m(\u001b[0m\u001b[0mef\u001b[0m\u001b[0;34m,\u001b[0m \u001b[0mef_param\u001b[0m\u001b[0;34m=\u001b[0m\u001b[0;34m\"risk\"\u001b[0m\u001b[0;34m,\u001b[0m \u001b[0mef_param_range\u001b[0m\u001b[0;34m=\u001b[0m\u001b[0mrisk_range\u001b[0m\u001b[0;34m,\u001b[0m\u001b[0mshow_assets\u001b[0m\u001b[0;34m=\u001b[0m\u001b[0;32mTrue\u001b[0m\u001b[0;34m,\u001b[0m \u001b[0mshowfig\u001b[0m\u001b[0;34m=\u001b[0m\u001b[0;32mTrue\u001b[0m\u001b[0;34m)\u001b[0m\u001b[0;34m\u001b[0m\u001b[0;34m\u001b[0m\u001b[0m\n\u001b[0;32m---> 13\u001b[0;31m \u001b[0mweights\u001b[0m \u001b[0;34m=\u001b[0m \u001b[0mef\u001b[0m\u001b[0;34m.\u001b[0m\u001b[0mmax_sharpe\u001b[0m\u001b[0;34m(\u001b[0m\u001b[0;34m)\u001b[0m\u001b[0;34m\u001b[0m\u001b[0;34m\u001b[0m\u001b[0m\n\u001b[0m\u001b[1;32m     14\u001b[0m \u001b[0mcleaned_weights\u001b[0m \u001b[0;34m=\u001b[0m \u001b[0mef\u001b[0m\u001b[0;34m.\u001b[0m\u001b[0mclean_weights\u001b[0m\u001b[0;34m(\u001b[0m\u001b[0;34m)\u001b[0m\u001b[0;34m\u001b[0m\u001b[0;34m\u001b[0m\u001b[0m\n\u001b[1;32m     15\u001b[0m \u001b[0mprint\u001b[0m\u001b[0;34m(\u001b[0m\u001b[0mcleaned_weights\u001b[0m\u001b[0;34m)\u001b[0m\u001b[0;34m\u001b[0m\u001b[0;34m\u001b[0m\u001b[0m\n",
            "\u001b[0;32m/usr/local/lib/python3.8/dist-packages/pypfopt/efficient_frontier/efficient_frontier.py\u001b[0m in \u001b[0;36mmax_sharpe\u001b[0;34m(self, risk_free_rate)\u001b[0m\n\u001b[1;32m    291\u001b[0m         ] + new_constraints\n\u001b[1;32m    292\u001b[0m \u001b[0;34m\u001b[0m\u001b[0m\n\u001b[0;32m--> 293\u001b[0;31m         \u001b[0mself\u001b[0m\u001b[0;34m.\u001b[0m\u001b[0m_solve_cvxpy_opt_problem\u001b[0m\u001b[0;34m(\u001b[0m\u001b[0;34m)\u001b[0m\u001b[0;34m\u001b[0m\u001b[0;34m\u001b[0m\u001b[0m\n\u001b[0m\u001b[1;32m    294\u001b[0m         \u001b[0;31m# Inverse-transform\u001b[0m\u001b[0;34m\u001b[0m\u001b[0;34m\u001b[0m\u001b[0;34m\u001b[0m\u001b[0m\n\u001b[1;32m    295\u001b[0m         \u001b[0mself\u001b[0m\u001b[0;34m.\u001b[0m\u001b[0mweights\u001b[0m \u001b[0;34m=\u001b[0m \u001b[0;34m(\u001b[0m\u001b[0mself\u001b[0m\u001b[0;34m.\u001b[0m\u001b[0m_w\u001b[0m\u001b[0;34m.\u001b[0m\u001b[0mvalue\u001b[0m \u001b[0;34m/\u001b[0m \u001b[0mk\u001b[0m\u001b[0;34m.\u001b[0m\u001b[0mvalue\u001b[0m\u001b[0;34m)\u001b[0m\u001b[0;34m.\u001b[0m\u001b[0mround\u001b[0m\u001b[0;34m(\u001b[0m\u001b[0;36m16\u001b[0m\u001b[0;34m)\u001b[0m \u001b[0;34m+\u001b[0m \u001b[0;36m0.0\u001b[0m\u001b[0;34m\u001b[0m\u001b[0;34m\u001b[0m\u001b[0m\n",
            "\u001b[0;32m/usr/local/lib/python3.8/dist-packages/pypfopt/base_optimizer.py\u001b[0m in \u001b[0;36m_solve_cvxpy_opt_problem\u001b[0;34m(self)\u001b[0m\n\u001b[1;32m    294\u001b[0m             \u001b[0;32melse\u001b[0m\u001b[0;34m:\u001b[0m\u001b[0;34m\u001b[0m\u001b[0;34m\u001b[0m\u001b[0m\n\u001b[1;32m    295\u001b[0m                 \u001b[0;32mif\u001b[0m \u001b[0;32mnot\u001b[0m \u001b[0mself\u001b[0m\u001b[0;34m.\u001b[0m\u001b[0m_objective\u001b[0m\u001b[0;34m.\u001b[0m\u001b[0mid\u001b[0m \u001b[0;34m==\u001b[0m \u001b[0mself\u001b[0m\u001b[0;34m.\u001b[0m\u001b[0m_initial_objective\u001b[0m\u001b[0;34m:\u001b[0m\u001b[0;34m\u001b[0m\u001b[0;34m\u001b[0m\u001b[0m\n\u001b[0;32m--> 296\u001b[0;31m                     raise exceptions.InstantiationError(\n\u001b[0m\u001b[1;32m    297\u001b[0m                         \u001b[0;34m\"The objective function was changed after the initial optimization. \"\u001b[0m\u001b[0;34m\u001b[0m\u001b[0;34m\u001b[0m\u001b[0m\n\u001b[1;32m    298\u001b[0m                         \u001b[0;34m\"Please create a new instance instead.\"\u001b[0m\u001b[0;34m\u001b[0m\u001b[0;34m\u001b[0m\u001b[0m\n",
            "\u001b[0;31mInstantiationError\u001b[0m: The objective function was changed after the initial optimization. Please create a new instance instead."
          ]
        }
      ]
    },
    {
      "cell_type": "code",
      "source": [
        "# Calculate the expected returns and the annualized sample covariance matrix of asset returns\n",
        "mu = expected_returns.mean_historical_return(df)\n",
        "S = risk_models.sample_cov(df)\n",
        "\n",
        "# Optimize for maximum sharpe ratio\n",
        "ef = EfficientFrontier(mu,S,weight_bounds=(None,None))\n",
        "ef.add_constraint(lambda w: w[0]+w[1]+w[2]+w[3] == 1)\n",
        "\n",
        "fig, ax = plt.subplots()\n",
        "plotting.plot_efficient_frontier(ef, ax=ax, show_assets=False)\n",
        "\n",
        "# Find the tangency portfolio\n",
        "ef.max_sharpe()\n",
        "ret_tangent, std_tangent, _ = ef.portfolio_performance()\n",
        "ax.scatter(std_tangent, ret_tangent, marker=\"*\", s=100, c=\"r\", label=\"Max Sharpe\")\n",
        "\n",
        "# Generate random portfolios\n",
        "n_samples = 10000\n",
        "w = np.random.dirichlet(np.ones(len(mu)), n_samples)\n",
        "rets = w.dot(mu)\n",
        "stds = np.sqrt(np.diag(w @ S @ w.T))\n",
        "sharpes = rets / stds\n",
        "ax.scatter(stds, rets, marker=\".\", c=sharpes, cmap=\"viridis_r\")\n",
        "\n",
        "# Output\n",
        "ax.set_title(\"Efficient Frontier with random portfolios\")\n",
        "ax.legend()\n",
        "plt.tight_layout()\n",
        "plt.savefig(\"ef_scatter.png\", dpi=200)\n",
        "plt.show()"
      ],
      "metadata": {
        "colab": {
          "base_uri": "https://localhost:8080/",
          "height": 652
        },
        "id": "bQaUz3svk7D-",
        "outputId": "41dd7704-130c-4b19-c801-23881d41d495"
      },
      "execution_count": 27,
      "outputs": [
        {
          "output_type": "error",
          "ename": "InstantiationError",
          "evalue": "ignored",
          "traceback": [
            "\u001b[0;31m---------------------------------------------------------------------------\u001b[0m",
            "\u001b[0;31mInstantiationError\u001b[0m                        Traceback (most recent call last)",
            "\u001b[0;32m<ipython-input-27-4decd6a22918>\u001b[0m in \u001b[0;36m<module>\u001b[0;34m\u001b[0m\n\u001b[1;32m     11\u001b[0m \u001b[0;34m\u001b[0m\u001b[0m\n\u001b[1;32m     12\u001b[0m \u001b[0;31m# Find the tangency portfolio\u001b[0m\u001b[0;34m\u001b[0m\u001b[0;34m\u001b[0m\u001b[0;34m\u001b[0m\u001b[0m\n\u001b[0;32m---> 13\u001b[0;31m \u001b[0mef\u001b[0m\u001b[0;34m.\u001b[0m\u001b[0mmax_sharpe\u001b[0m\u001b[0;34m(\u001b[0m\u001b[0;34m)\u001b[0m\u001b[0;34m\u001b[0m\u001b[0;34m\u001b[0m\u001b[0m\n\u001b[0m\u001b[1;32m     14\u001b[0m \u001b[0mret_tangent\u001b[0m\u001b[0;34m,\u001b[0m \u001b[0mstd_tangent\u001b[0m\u001b[0;34m,\u001b[0m \u001b[0m_\u001b[0m \u001b[0;34m=\u001b[0m \u001b[0mef\u001b[0m\u001b[0;34m.\u001b[0m\u001b[0mportfolio_performance\u001b[0m\u001b[0;34m(\u001b[0m\u001b[0;34m)\u001b[0m\u001b[0;34m\u001b[0m\u001b[0;34m\u001b[0m\u001b[0m\n\u001b[1;32m     15\u001b[0m \u001b[0max\u001b[0m\u001b[0;34m.\u001b[0m\u001b[0mscatter\u001b[0m\u001b[0;34m(\u001b[0m\u001b[0mstd_tangent\u001b[0m\u001b[0;34m,\u001b[0m \u001b[0mret_tangent\u001b[0m\u001b[0;34m,\u001b[0m \u001b[0mmarker\u001b[0m\u001b[0;34m=\u001b[0m\u001b[0;34m\"*\"\u001b[0m\u001b[0;34m,\u001b[0m \u001b[0ms\u001b[0m\u001b[0;34m=\u001b[0m\u001b[0;36m100\u001b[0m\u001b[0;34m,\u001b[0m \u001b[0mc\u001b[0m\u001b[0;34m=\u001b[0m\u001b[0;34m\"r\"\u001b[0m\u001b[0;34m,\u001b[0m \u001b[0mlabel\u001b[0m\u001b[0;34m=\u001b[0m\u001b[0;34m\"Max Sharpe\"\u001b[0m\u001b[0;34m)\u001b[0m\u001b[0;34m\u001b[0m\u001b[0;34m\u001b[0m\u001b[0m\n",
            "\u001b[0;32m/usr/local/lib/python3.8/dist-packages/pypfopt/efficient_frontier/efficient_frontier.py\u001b[0m in \u001b[0;36mmax_sharpe\u001b[0;34m(self, risk_free_rate)\u001b[0m\n\u001b[1;32m    291\u001b[0m         ] + new_constraints\n\u001b[1;32m    292\u001b[0m \u001b[0;34m\u001b[0m\u001b[0m\n\u001b[0;32m--> 293\u001b[0;31m         \u001b[0mself\u001b[0m\u001b[0;34m.\u001b[0m\u001b[0m_solve_cvxpy_opt_problem\u001b[0m\u001b[0;34m(\u001b[0m\u001b[0;34m)\u001b[0m\u001b[0;34m\u001b[0m\u001b[0;34m\u001b[0m\u001b[0m\n\u001b[0m\u001b[1;32m    294\u001b[0m         \u001b[0;31m# Inverse-transform\u001b[0m\u001b[0;34m\u001b[0m\u001b[0;34m\u001b[0m\u001b[0;34m\u001b[0m\u001b[0m\n\u001b[1;32m    295\u001b[0m         \u001b[0mself\u001b[0m\u001b[0;34m.\u001b[0m\u001b[0mweights\u001b[0m \u001b[0;34m=\u001b[0m \u001b[0;34m(\u001b[0m\u001b[0mself\u001b[0m\u001b[0;34m.\u001b[0m\u001b[0m_w\u001b[0m\u001b[0;34m.\u001b[0m\u001b[0mvalue\u001b[0m \u001b[0;34m/\u001b[0m \u001b[0mk\u001b[0m\u001b[0;34m.\u001b[0m\u001b[0mvalue\u001b[0m\u001b[0;34m)\u001b[0m\u001b[0;34m.\u001b[0m\u001b[0mround\u001b[0m\u001b[0;34m(\u001b[0m\u001b[0;36m16\u001b[0m\u001b[0;34m)\u001b[0m \u001b[0;34m+\u001b[0m \u001b[0;36m0.0\u001b[0m\u001b[0;34m\u001b[0m\u001b[0;34m\u001b[0m\u001b[0m\n",
            "\u001b[0;32m/usr/local/lib/python3.8/dist-packages/pypfopt/base_optimizer.py\u001b[0m in \u001b[0;36m_solve_cvxpy_opt_problem\u001b[0;34m(self)\u001b[0m\n\u001b[1;32m    294\u001b[0m             \u001b[0;32melse\u001b[0m\u001b[0;34m:\u001b[0m\u001b[0;34m\u001b[0m\u001b[0;34m\u001b[0m\u001b[0m\n\u001b[1;32m    295\u001b[0m                 \u001b[0;32mif\u001b[0m \u001b[0;32mnot\u001b[0m \u001b[0mself\u001b[0m\u001b[0;34m.\u001b[0m\u001b[0m_objective\u001b[0m\u001b[0;34m.\u001b[0m\u001b[0mid\u001b[0m \u001b[0;34m==\u001b[0m \u001b[0mself\u001b[0m\u001b[0;34m.\u001b[0m\u001b[0m_initial_objective\u001b[0m\u001b[0;34m:\u001b[0m\u001b[0;34m\u001b[0m\u001b[0;34m\u001b[0m\u001b[0m\n\u001b[0;32m--> 296\u001b[0;31m                     raise exceptions.InstantiationError(\n\u001b[0m\u001b[1;32m    297\u001b[0m                         \u001b[0;34m\"The objective function was changed after the initial optimization. \"\u001b[0m\u001b[0;34m\u001b[0m\u001b[0;34m\u001b[0m\u001b[0m\n\u001b[1;32m    298\u001b[0m                         \u001b[0;34m\"Please create a new instance instead.\"\u001b[0m\u001b[0;34m\u001b[0m\u001b[0;34m\u001b[0m\u001b[0m\n",
            "\u001b[0;31mInstantiationError\u001b[0m: The objective function was changed after the initial optimization. Please create a new instance instead."
          ]
        },
        {
          "output_type": "display_data",
          "data": {
            "text/plain": [
              "<Figure size 432x288 with 1 Axes>"
            ],
            "image/png": "[encoded data removed]"
          },
          "metadata": {}
        }
      ]
    }
  ]
}